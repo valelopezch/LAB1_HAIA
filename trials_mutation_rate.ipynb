{
 "cells": [
  {
   "cell_type": "markdown",
   "metadata": {},
   "source": [
    "# **Ratio de Mutacion**"
   ]
  },
  {
   "cell_type": "code",
   "execution_count": 1,
   "metadata": {},
   "outputs": [],
   "source": [
    "from algorithm import CatanGA\n",
    "import pandas as pd"
   ]
  },
  {
   "cell_type": "code",
   "execution_count": 2,
   "metadata": {},
   "outputs": [],
   "source": [
    "population_size = 100\n",
    "generations = 50\n",
    "crossover_prob = 0.5\n",
    "selection_method = \"tournament\"  # Options: \"tournament\", \"roulette\", \"best\"\n",
    "tournament_size = 4\n",
    "mutation_sigma = 0.05\n",
    "mutation_indpb = 0.1\n",
    "num_games_per_individual = 15"
   ]
  },
  {
   "cell_type": "markdown",
   "metadata": {},
   "source": [
    "## **50**"
   ]
  },
  {
   "cell_type": "code",
   "execution_count": 3,
   "metadata": {},
   "outputs": [
    {
     "name": "stdout",
     "output_type": "stream",
     "text": [
      "Generation 0 - Best Individual: [0.0174, 0.0017, 0.0236, 0.0213, 0.1331, 0.249, 0.0134, 0.1056, 0.2647, 0.1702], Max Fitness: 0.6833, Avg Fitness: 0.4322\n",
      "Generation 1 - Best Individual: [0.2033, 0.0458, 0.0479, 0.0246, 0.0873, 0.0681, 0.0426, 0.2555, 0.1268, 0.0981], Max Fitness: 0.7167, Avg Fitness: 0.4537\n",
      "Generation 2 - Best Individual: [0.0686, 0.0079, 0.1096, 0.3242, 0.1865, 0.0392, 0.001, 0.0966, 0.117, 0.0494], Max Fitness: 0.7167, Avg Fitness: 0.4493\n",
      "Generation 3 - Best Individual: [0.0535, 0.1514, 0.0146, 0.105, 0.1551, 0.0131, 0.0099, 0.2165, 0.0646, 0.2163], Max Fitness: 0.7000, Avg Fitness: 0.4637\n",
      "Generation 4 - Best Individual: [0.0255, 0.432, 0.0346, 0.0437, 0.0042, 0.0516, 0.0957, 0.2851, 0.0254, 0.0022], Max Fitness: 0.6667, Avg Fitness: 0.4372\n",
      "Generation 5 - Best Individual: [0.0415, 0.1174, 0.0113, 0.0011, 0.1094, 0.2313, 0.1024, 0.1678, 0.0501, 0.1677], Max Fitness: 0.6500, Avg Fitness: 0.4447\n",
      "Generation 6 - Best Individual: [0.0498, 0.0868, 0.1618, 0.0785, 0.1198, 0.1442, 0.0074, 0.1793, 0.129, 0.0434], Max Fitness: 0.6667, Avg Fitness: 0.4413\n",
      "Generation 7 - Best Individual: [0.0535, 0.1514, 0.0146, 0.105, 0.1551, 0.0131, 0.0099, 0.2165, 0.0646, 0.2163], Max Fitness: 0.7000, Avg Fitness: 0.4540\n",
      "Generation 8 - Best Individual: [0.0691, 0.1045, 0.1603, 0.0777, 0.1187, 0.1428, 0.0765, 0.2284, 0.0203, 0.0017], Max Fitness: 0.6833, Avg Fitness: 0.4610\n",
      "Generation 9 - Best Individual: [0.0492, 0.1391, 0.0134, 0.0965, 0.1426, 0.2316, 0.0088, 0.1924, 0.0574, 0.069], Max Fitness: 0.7333, Avg Fitness: 0.4675\n",
      "Generation 10 - Best Individual: [0.0682, 0.0078, 0.0215, 0.0019, 0.3233, 0.0337, 0.0146, 0.3635, 0.1164, 0.0491], Max Fitness: 0.6667, Avg Fitness: 0.4497\n",
      "Generation 11 - Best Individual: [0.0539, 0.165, 0.164, 0.001, 0.1685, 0.0176, 0.0115, 0.2876, 0.0921, 0.0388], Max Fitness: 0.7500, Avg Fitness: 0.4505\n",
      "Generation 12 - Best Individual: [0.038, 0.2313, 0.1215, 0.0014, 0.2363, 0.0246, 0.1642, 0.0094, 0.0627, 0.1106], Max Fitness: 0.6833, Avg Fitness: 0.4208\n",
      "Generation 13 - Best Individual: [0.0456, 0.129, 0.0125, 0.0895, 0.1322, 0.0112, 0.1301, 0.2104, 0.0551, 0.1844], Max Fitness: 0.6833, Avg Fitness: 0.4305\n",
      "Generation 14 - Best Individual: [0.0546, 0.0063, 0.0873, 0.2581, 0.0948, 0.2007, 0.0888, 0.0769, 0.0932, 0.0393], Max Fitness: 0.6333, Avg Fitness: 0.4342\n",
      "Generation 15 - Best Individual: [0.0456, 0.1281, 0.0125, 0.0896, 0.1323, 0.0112, 0.1302, 0.2107, 0.0552, 0.1846], Max Fitness: 0.7667, Avg Fitness: 0.4467\n",
      "Generation 16 - Best Individual: [0.0689, 0.0098, 0.2566, 0.0016, 0.2637, 0.0274, 0.0008, 0.0094, 0.0832, 0.2786], Max Fitness: 0.6167, Avg Fitness: 0.4507\n",
      "Generation 17 - Best Individual: [0.1036, 0.0118, 0.0327, 0.0029, 0.4911, 0.0297, 0.0008, 0.1669, 0.1129, 0.0476], Max Fitness: 0.7667, Avg Fitness: 0.4515\n",
      "Generation 18 - Best Individual: [0.0425, 0.1205, 0.0116, 0.2529, 0.1455, 0.0306, 0.0008, 0.1722, 0.0514, 0.172], Max Fitness: 0.6833, Avg Fitness: 0.4462\n",
      "Generation 19 - Best Individual: [0.0681, 0.1563, 0.0151, 0.2253, 0.1832, 0.0154, 0.147, 0.0693, 0.0713, 0.049], Max Fitness: 0.7000, Avg Fitness: 0.4852\n",
      "Generation 20 - Best Individual: [0.0647, 0.2032, 0.0196, 0.141, 0.2083, 0.0182, 0.1095, 0.0949, 0.094, 0.0466], Max Fitness: 0.7333, Avg Fitness: 0.4538\n",
      "Error in game simulation: No hay nodos válidos disponibles para iniciar el juego\n",
      "Generation 21 - Best Individual: [0.0685, 0.1573, 0.009, 0.2268, 0.1843, 0.0155, 0.1479, 0.0697, 0.0717, 0.0493], Max Fitness: 0.7000, Avg Fitness: 0.4143\n",
      "Generation 22 - Best Individual: [0.0675, 0.2117, 0.0204, 0.1468, 0.2169, 0.0183, 0.1115, 0.0966, 0.0779, 0.0324], Max Fitness: 0.7167, Avg Fitness: 0.4335\n",
      "Generation 23 - Best Individual: [0.0561, 0.1762, 0.0964, 0.1571, 0.1935, 0.0163, 0.0978, 0.0847, 0.0815, 0.0404], Max Fitness: 0.7000, Avg Fitness: 0.4525\n",
      "Generation 24 - Best Individual: [0.0662, 0.2501, 0.02, 0.1431, 0.2114, 0.0, 0.1089, 0.0932, 0.0753, 0.0318], Max Fitness: 0.6667, Avg Fitness: 0.4527\n",
      "Generation 25 - Best Individual: [0.0662, 0.2501, 0.02, 0.1431, 0.2114, 0.0, 0.1089, 0.0932, 0.0753, 0.0318], Max Fitness: 0.6833, Avg Fitness: 0.4593\n",
      "Generation 26 - Best Individual: [0.0685, 0.0083, 0.1147, 0.1868, 0.23, 0.0194, 0.1163, 0.1008, 0.1224, 0.0328], Max Fitness: 0.6667, Avg Fitness: 0.4492\n",
      "Generation 27 - Best Individual: [0.0669, 0.2105, 0.0203, 0.1443, 0.2093, 0.0177, 0.1106, 0.0958, 0.0773, 0.0473], Max Fitness: 0.7167, Avg Fitness: 0.4658\n",
      "Generation 28 - Best Individual: [0.067, 0.2103, 0.0203, 0.1458, 0.227, 0.018, 0.1089, 0.0944, 0.0762, 0.0321], Max Fitness: 0.7167, Avg Fitness: 0.4577\n",
      "Generation 29 - Best Individual: [0.0686, 0.2152, 0.0205, 0.1477, 0.218, 0.0184, 0.1102, 0.0914, 0.0772, 0.0328], Max Fitness: 0.7833, Avg Fitness: 0.4783\n",
      "Generation 30 - Best Individual: [0.0546, 0.1796, 0.0974, 0.1587, 0.1953, 0.0165, 0.0885, 0.0767, 0.0933, 0.0394], Max Fitness: 0.7333, Avg Fitness: 0.4505\n",
      "Generation 31 - Best Individual: [0.0656, 0.2087, 0.0202, 0.1448, 0.2098, 0.0186, 0.1114, 0.0965, 0.0779, 0.0465], Max Fitness: 0.6333, Avg Fitness: 0.4473\n",
      "Generation 32 - Best Individual: [0.0648, 0.2449, 0.0196, 0.1401, 0.207, 0.0182, 0.1094, 0.0912, 0.0737, 0.0311], Max Fitness: 0.6500, Avg Fitness: 0.4520\n",
      "Generation 33 - Best Individual: [0.0704, 0.2209, 0.021, 0.1516, 0.2197, 0.0185, 0.1112, 0.0738, 0.0792, 0.0337], Max Fitness: 0.6667, Avg Fitness: 0.4435\n",
      "Generation 34 - Best Individual: [0.0693, 0.2176, 0.021, 0.1464, 0.2122, 0.0187, 0.1097, 0.0951, 0.0768, 0.0332], Max Fitness: 0.6500, Avg Fitness: 0.4430\n",
      "Generation 35 - Best Individual: [0.0685, 0.2147, 0.0207, 0.1462, 0.2197, 0.0185, 0.1121, 0.0941, 0.0742, 0.0313], Max Fitness: 0.7667, Avg Fitness: 0.4458\n",
      "Generation 36 - Best Individual: [0.0666, 0.2094, 0.0202, 0.1453, 0.2107, 0.0182, 0.1101, 0.0954, 0.077, 0.0471], Max Fitness: 0.7167, Avg Fitness: 0.4483\n",
      "Generation 37 - Best Individual: [0.0671, 0.2104, 0.0203, 0.1458, 0.2268, 0.018, 0.1089, 0.0944, 0.0762, 0.0321], Max Fitness: 0.7167, Avg Fitness: 0.4523\n",
      "Generation 38 - Best Individual: [0.0676, 0.2116, 0.0204, 0.1468, 0.2284, 0.0181, 0.1086, 0.0901, 0.0761, 0.0323], Max Fitness: 0.6667, Avg Fitness: 0.4850\n",
      "Generation 39 - Best Individual: [0.0694, 0.2177, 0.0207, 0.1467, 0.2127, 0.0184, 0.1116, 0.0926, 0.0771, 0.0331], Max Fitness: 0.7000, Avg Fitness: 0.4547\n",
      "Generation 40 - Best Individual: [0.0683, 0.2144, 0.0202, 0.1487, 0.2314, 0.0188, 0.1127, 0.0752, 0.0776, 0.0327], Max Fitness: 0.7500, Avg Fitness: 0.4247\n",
      "Error in game simulation: No hay nodos válidos disponibles para iniciar el juego\n",
      "Generation 41 - Best Individual: [0.0694, 0.2177, 0.0207, 0.1467, 0.2127, 0.0184, 0.1116, 0.0926, 0.0771, 0.0331], Max Fitness: 0.7167, Avg Fitness: 0.4655\n",
      "Generation 42 - Best Individual: [0.0688, 0.2191, 0.0211, 0.1492, 0.2241, 0.0189, 0.1118, 0.0758, 0.0782, 0.033], Max Fitness: 0.6333, Avg Fitness: 0.4350\n",
      "Error in game simulation: No hay nodos válidos disponibles para iniciar el juego\n",
      "Generation 43 - Best Individual: [0.0684, 0.2147, 0.0207, 0.1489, 0.2317, 0.0184, 0.1112, 0.0754, 0.0778, 0.0328], Max Fitness: 0.7000, Avg Fitness: 0.4692\n",
      "Generation 44 - Best Individual: [0.0695, 0.2179, 0.021, 0.1484, 0.2228, 0.0188, 0.1129, 0.075, 0.0804, 0.0333], Max Fitness: 0.6500, Avg Fitness: 0.4493\n",
      "Generation 45 - Best Individual: [0.0684, 0.2147, 0.0207, 0.1489, 0.2317, 0.0184, 0.1112, 0.0754, 0.0778, 0.0328], Max Fitness: 0.7167, Avg Fitness: 0.4282\n",
      "Generation 46 - Best Individual: [0.0695, 0.2179, 0.021, 0.1484, 0.2228, 0.0188, 0.1129, 0.075, 0.0804, 0.0333], Max Fitness: 0.6667, Avg Fitness: 0.4613\n",
      "Generation 47 - Best Individual: [0.0695, 0.2179, 0.021, 0.1484, 0.2228, 0.0188, 0.1129, 0.075, 0.0804, 0.0333], Max Fitness: 0.6500, Avg Fitness: 0.4392\n",
      "Error in game simulation: No hay nodos válidos disponibles para iniciar el juego\n",
      "Generation 48 - Best Individual: [0.1028, 0.21, 0.0202, 0.1431, 0.2147, 0.0181, 0.1081, 0.0734, 0.0775, 0.0321], Max Fitness: 0.7167, Avg Fitness: 0.4447\n",
      "Generation 49 - Best Individual: [0.0702, 0.2199, 0.0212, 0.1498, 0.2249, 0.019, 0.1091, 0.0741, 0.0782, 0.0336], Max Fitness: 0.7000, Avg Fitness: 0.4477\n"
     ]
    }
   ],
   "source": [
    "mutation_prob1 = 0.05\n",
    "\n",
    "ga1 = CatanGA(\n",
    "    population_size=population_size, \n",
    "    generations=generations, \n",
    "    mutation_prob=mutation_prob1, \n",
    "    crossover_prob=crossover_prob,\n",
    "    selection_method=selection_method,\n",
    "    tournament_size=tournament_size,\n",
    "    mutation_sigma=mutation_sigma,\n",
    "    mutation_indpb=mutation_indpb,\n",
    "    num_games_per_individual=num_games_per_individual\n",
    ")\n",
    "\n",
    "best_distribution1 = ga1.run()"
   ]
  },
  {
   "cell_type": "code",
   "execution_count": 4,
   "metadata": {},
   "outputs": [
    {
     "name": "stdout",
     "output_type": "stream",
     "text": [
      "Best probability distribution and agent: ([0.0686, 0.2152, 0.0205, 0.1477, 0.218, 0.0184, 0.1102, 0.0914, 0.0772, 0.0328], <class 'Agents.CarlesZaidaAgent.CarlesZaidaAgent'>)\n"
     ]
    }
   ],
   "source": [
    "print(\"Best probability distribution and agent:\", best_distribution1)"
   ]
  },
  {
   "cell_type": "code",
   "execution_count": 5,
   "metadata": {},
   "outputs": [],
   "source": [
    "df1 = pd.DataFrame(ga1.logbook)\n",
    "df1.to_csv(\"./res_trials/trial_mut1.csv\", index = False)"
   ]
  },
  {
   "cell_type": "markdown",
   "metadata": {},
   "source": [
    "## **100**"
   ]
  },
  {
   "cell_type": "code",
   "execution_count": 6,
   "metadata": {},
   "outputs": [
    {
     "name": "stderr",
     "output_type": "stream",
     "text": [
      "c:\\Users\\valel\\AppData\\Local\\Programs\\Python\\Python312\\Lib\\site-packages\\deap\\creator.py:185: RuntimeWarning: A class named 'FitnessMax' has already been created and it will be overwritten. Consider deleting previous creation of that class or rename it.\n",
      "  warnings.warn(\"A class named '{0}' has already been created and it \"\n",
      "c:\\Users\\valel\\AppData\\Local\\Programs\\Python\\Python312\\Lib\\site-packages\\deap\\creator.py:185: RuntimeWarning: A class named 'Individual' has already been created and it will be overwritten. Consider deleting previous creation of that class or rename it.\n",
      "  warnings.warn(\"A class named '{0}' has already been created and it \"\n"
     ]
    },
    {
     "name": "stdout",
     "output_type": "stream",
     "text": [
      "Generation 0 - Best Individual: [0.2125, 0.0456, 0.0833, 0.1157, 0.0204, 0.0542, 0.0563, 0.129, 0.1361, 0.1469], Max Fitness: 0.7000, Avg Fitness: 0.4320\n",
      "Generation 1 - Best Individual: [0.0453, 0.2009, 0.0436, 0.049, 0.097, 0.3311, 0.0886, 0.1259, 0.0123, 0.0063], Max Fitness: 0.6333, Avg Fitness: 0.4457\n",
      "Generation 2 - Best Individual: [0.0304, 0.1965, 0.1369, 0.0051, 0.0169, 0.1065, 0.3346, 0.1086, 0.0341, 0.0304], Max Fitness: 0.7833, Avg Fitness: 0.4567\n",
      "Generation 3 - Best Individual: [0.0358, 0.0334, 0.0294, 0.2298, 0.281, 0.0022, 0.231, 0.0337, 0.0316, 0.0921], Max Fitness: 0.6833, Avg Fitness: 0.4343\n",
      "Generation 4 - Best Individual: [0.0594, 0.0449, 0.2327, 0.0087, 0.0287, 0.1875, 0.2157, 0.0424, 0.0708, 0.1092], Max Fitness: 0.7333, Avg Fitness: 0.4633\n",
      "Generation 5 - Best Individual: [0.0101, 0.0279, 0.0245, 0.1918, 0.2346, 0.0494, 0.0531, 0.1067, 0.1827, 0.1192], Max Fitness: 0.7500, Avg Fitness: 0.4568\n",
      "Generation 6 - Best Individual: [0.0383, 0.1092, 0.0732, 0.0839, 0.0566, 0.1792, 0.1414, 0.0936, 0.1835, 0.0411], Max Fitness: 0.7167, Avg Fitness: 0.4735\n",
      "Generation 7 - Best Individual: [0.032, 0.0299, 0.0263, 0.2055, 0.2514, 0.0529, 0.2065, 0.0301, 0.0831, 0.0823], Max Fitness: 0.6667, Avg Fitness: 0.4467\n",
      "Generation 8 - Best Individual: [0.0537, 0.0499, 0.0051, 0.1835, 0.1205, 0.0886, 0.2632, 0.0505, 0.0472, 0.1378], Max Fitness: 0.6000, Avg Fitness: 0.4317\n",
      "Generation 9 - Best Individual: [0.0339, 0.0316, 0.0278, 0.2174, 0.2659, 0.056, 0.2185, 0.0319, 0.0299, 0.0871], Max Fitness: 0.7333, Avg Fitness: 0.4337\n",
      "Generation 10 - Best Individual: [0.0319, 0.2061, 0.1436, 0.1652, 0.2021, 0.0016, 0.1661, 0.0238, 0.0277, 0.0319], Max Fitness: 0.6833, Avg Fitness: 0.4742\n",
      "Generation 11 - Best Individual: [0.0478, 0.0446, 0.0392, 0.0137, 0.4016, 0.0021, 0.2409, 0.045, 0.0422, 0.1229], Max Fitness: 0.6500, Avg Fitness: 0.4310\n",
      "Generation 12 - Best Individual: [0.028, 0.1811, 0.0245, 0.1921, 0.2348, 0.0495, 0.193, 0.0252, 0.0438, 0.028], Max Fitness: 0.7167, Avg Fitness: 0.4623\n",
      "Generation 13 - Best Individual: [0.1561, 0.0167, 0.0, 0.1575, 0.1925, 0.0406, 0.1583, 0.0223, 0.1458, 0.1102], Max Fitness: 0.6500, Avg Fitness: 0.4377\n",
      "Generation 14 - Best Individual: [0.0478, 0.0446, 0.0392, 0.0137, 0.4016, 0.0021, 0.2409, 0.045, 0.0422, 0.1229], Max Fitness: 0.6667, Avg Fitness: 0.4355\n",
      "Generation 15 - Best Individual: [0.0146, 0.0007, 0.162, 0.0865, 0.193, 0.0015, 0.1253, 0.1255, 0.176, 0.1149], Max Fitness: 0.6500, Avg Fitness: 0.4347\n",
      "Generation 16 - Best Individual: [0.013, 0.0006, 0.0265, 0.2202, 0.2533, 0.0014, 0.1122, 0.1124, 0.1576, 0.1028], Max Fitness: 0.6667, Avg Fitness: 0.4527\n",
      "Generation 17 - Best Individual: [0.0146, 0.0007, 0.162, 0.0865, 0.193, 0.0015, 0.1253, 0.1255, 0.176, 0.1149], Max Fitness: 0.7667, Avg Fitness: 0.4965\n",
      "Error in game simulation: No hay nodos válidos disponibles para iniciar el juego\n",
      "Generation 18 - Best Individual: [0.0466, 0.0435, 0.0382, 0.0134, 0.3918, 0.0483, 0.1883, 0.0439, 0.0411, 0.1449], Max Fitness: 0.6833, Avg Fitness: 0.4485\n",
      "Generation 19 - Best Individual: [0.0478, 0.0446, 0.0392, 0.0137, 0.4016, 0.0021, 0.2409, 0.045, 0.0422, 0.1229], Max Fitness: 0.7167, Avg Fitness: 0.4550\n",
      "Generation 20 - Best Individual: [0.0464, 0.0433, 0.038, 0.0133, 0.3899, 0.0481, 0.1922, 0.0437, 0.0409, 0.1442], Max Fitness: 0.7500, Avg Fitness: 0.4970\n",
      "Generation 21 - Best Individual: [0.0478, 0.0446, 0.0392, 0.0137, 0.4019, 0.0495, 0.1931, 0.045, 0.0422, 0.123], Max Fitness: 0.7667, Avg Fitness: 0.4375\n",
      "Error in game simulation: No hay nodos válidos disponibles para iniciar el juego\n",
      "Generation 22 - Best Individual: [0.0469, 0.0437, 0.0384, 0.0329, 0.3943, 0.0485, 0.1893, 0.0441, 0.0414, 0.1205], Max Fitness: 0.6667, Avg Fitness: 0.4415\n",
      "Generation 23 - Best Individual: [0.0108, 0.0006, 0.1198, 0.0123, 0.3601, 0.0018, 0.2392, 0.0404, 0.1301, 0.0849], Max Fitness: 0.6833, Avg Fitness: 0.4488\n",
      "Generation 24 - Best Individual: [0.0117, 0.0006, 0.1302, 0.0695, 0.3228, 0.0017, 0.1936, 0.0362, 0.1414, 0.0923], Max Fitness: 0.6500, Avg Fitness: 0.4440\n",
      "Generation 25 - Best Individual: [0.0478, 0.0446, 0.0392, 0.0137, 0.4016, 0.0021, 0.2409, 0.045, 0.0422, 0.1229], Max Fitness: 0.7167, Avg Fitness: 0.4732\n",
      "Error in game simulation: No hay nodos válidos disponibles para iniciar el juego\n",
      "Generation 26 - Best Individual: [0.0478, 0.0446, 0.0392, 0.0137, 0.4016, 0.0021, 0.2409, 0.045, 0.0422, 0.1229], Max Fitness: 0.6333, Avg Fitness: 0.4495\n",
      "Error in game simulation: No hay nodos válidos disponibles para iniciar el juego\n",
      "Generation 27 - Best Individual: [0.0482, 0.0006, 0.1364, 0.0728, 0.3383, 0.0018, 0.2028, 0.038, 0.0425, 0.1186], Max Fitness: 0.7000, Avg Fitness: 0.4530\n",
      "Generation 28 - Best Individual: [0.043, 0.0401, 0.0346, 0.0296, 0.3782, 0.002, 0.2269, 0.0424, 0.0398, 0.1634], Max Fitness: 0.6833, Avg Fitness: 0.4395\n",
      "Generation 29 - Best Individual: [0.0166, 0.0008, 0.1839, 0.0983, 0.2191, 0.0017, 0.1423, 0.1425, 0.0479, 0.1469], Max Fitness: 0.6667, Avg Fitness: 0.4643\n",
      "Generation 30 - Best Individual: [0.0527, 0.0492, 0.0433, 0.0151, 0.3924, 0.002, 0.2239, 0.0419, 0.0437, 0.1358], Max Fitness: 0.7667, Avg Fitness: 0.4547\n",
      "Generation 31 - Best Individual: [0.04, 0.0553, 0.1529, 0.0862, 0.2249, 0.0376, 0.1506, 0.1185, 0.0353, 0.0987], Max Fitness: 0.7167, Avg Fitness: 0.4533\n",
      "Generation 32 - Best Individual: [0.0478, 0.0446, 0.0392, 0.0137, 0.4016, 0.0021, 0.2409, 0.045, 0.0422, 0.1229], Max Fitness: 0.7333, Avg Fitness: 0.4610\n",
      "Generation 33 - Best Individual: [0.0648, 0.0606, 0.0532, 0.1149, 0.256, 0.002, 0.1998, 0.0431, 0.0384, 0.1672], Max Fitness: 0.7167, Avg Fitness: 0.4588\n",
      "Error in game simulation: No hay nodos válidos disponibles para iniciar el juego\n",
      "Generation 34 - Best Individual: [0.0461, 0.043, 0.0524, 0.0132, 0.4082, 0.0021, 0.2324, 0.0434, 0.0407, 0.1185], Max Fitness: 0.6333, Avg Fitness: 0.4673\n",
      "Generation 35 - Best Individual: [0.0558, 0.052, 0.0458, 0.0391, 0.2889, 0.0578, 0.2253, 0.0486, 0.0433, 0.1434], Max Fitness: 0.6833, Avg Fitness: 0.4408\n",
      "Generation 36 - Best Individual: [0.0443, 0.0414, 0.037, 0.0316, 0.4284, 0.0468, 0.1823, 0.0393, 0.035, 0.1139], Max Fitness: 0.7500, Avg Fitness: 0.4383\n",
      "Generation 37 - Best Individual: [0.0506, 0.0535, 0.0471, 0.0402, 0.2974, 0.0436, 0.1746, 0.1375, 0.0411, 0.1144], Max Fitness: 0.7667, Avg Fitness: 0.4470\n",
      "Generation 38 - Best Individual: [0.0441, 0.0412, 0.041, 0.0143, 0.4191, 0.0022, 0.244, 0.0416, 0.039, 0.1135], Max Fitness: 0.8000, Avg Fitness: 0.4618\n",
      "Generation 39 - Best Individual: [0.0554, 0.0409, 0.0352, 0.0301, 0.4073, 0.0445, 0.1733, 0.0374, 0.0333, 0.1426], Max Fitness: 0.7500, Avg Fitness: 0.4423\n",
      "Generation 40 - Best Individual: [0.0453, 0.0409, 0.0359, 0.0307, 0.4159, 0.0453, 0.1769, 0.0452, 0.0472, 0.1167], Max Fitness: 0.6833, Avg Fitness: 0.4563\n",
      "Error in game simulation: No hay nodos válidos disponibles para iniciar el juego\n",
      "Generation 41 - Best Individual: [0.0555, 0.0519, 0.0456, 0.0159, 0.3596, 0.0021, 0.236, 0.0442, 0.0461, 0.1431], Max Fitness: 0.7167, Avg Fitness: 0.4658\n",
      "Generation 42 - Best Individual: [0.0461, 0.0431, 0.0385, 0.0175, 0.3938, 0.0023, 0.2584, 0.0422, 0.0395, 0.1186], Max Fitness: 0.7000, Avg Fitness: 0.4490\n",
      "Generation 43 - Best Individual: [0.0466, 0.0526, 0.0463, 0.0395, 0.4234, 0.0022, 0.1916, 0.0413, 0.0368, 0.1197], Max Fitness: 0.6667, Avg Fitness: 0.4590\n",
      "Generation 44 - Best Individual: [0.0453, 0.0409, 0.0359, 0.0307, 0.4159, 0.0453, 0.1769, 0.0452, 0.0472, 0.1167], Max Fitness: 0.7000, Avg Fitness: 0.4540\n",
      "Error in game simulation: No hay nodos válidos disponibles para iniciar el juego\n",
      "Generation 45 - Best Individual: [0.0503, 0.0409, 0.0357, 0.0305, 0.4136, 0.0451, 0.1759, 0.045, 0.0469, 0.1161], Max Fitness: 0.6500, Avg Fitness: 0.4658\n",
      "Generation 46 - Best Individual: [0.0506, 0.0411, 0.0368, 0.0314, 0.4255, 0.0465, 0.1811, 0.039, 0.0348, 0.1132], Max Fitness: 0.7833, Avg Fitness: 0.4635\n",
      "Generation 47 - Best Individual: [0.046, 0.041, 0.0358, 0.0306, 0.415, 0.0453, 0.177, 0.0452, 0.0473, 0.1168], Max Fitness: 0.7167, Avg Fitness: 0.4423\n",
      "Generation 48 - Best Individual: [0.0458, 0.0427, 0.0359, 0.0307, 0.4147, 0.0452, 0.1764, 0.0451, 0.0471, 0.1164], Max Fitness: 0.6667, Avg Fitness: 0.4415\n",
      "Generation 49 - Best Individual: [0.0477, 0.0539, 0.0474, 0.0311, 0.422, 0.046, 0.1687, 0.0459, 0.0184, 0.1189], Max Fitness: 0.7667, Avg Fitness: 0.4458\n"
     ]
    }
   ],
   "source": [
    "mutation_prob2 = 0.1\n",
    "\n",
    "ga2 = CatanGA(\n",
    "    population_size=population_size, \n",
    "    generations=generations, \n",
    "    mutation_prob=mutation_prob2, \n",
    "    crossover_prob=crossover_prob,\n",
    "    selection_method=selection_method,\n",
    "    tournament_size=tournament_size,\n",
    "    mutation_sigma=mutation_sigma,\n",
    "    mutation_indpb=mutation_indpb,\n",
    "    num_games_per_individual=num_games_per_individual\n",
    ")\n",
    "\n",
    "best_distribution2 = ga2.run()"
   ]
  },
  {
   "cell_type": "code",
   "execution_count": 7,
   "metadata": {},
   "outputs": [
    {
     "name": "stdout",
     "output_type": "stream",
     "text": [
      "Best probability distribution and agent: ([0.0441, 0.0412, 0.041, 0.0143, 0.4191, 0.0022, 0.244, 0.0416, 0.039, 0.1135], <class 'Agents.CarlesZaidaAgent.CarlesZaidaAgent'>)\n"
     ]
    }
   ],
   "source": [
    "print(\"Best probability distribution and agent:\", best_distribution2)"
   ]
  },
  {
   "cell_type": "code",
   "execution_count": 8,
   "metadata": {},
   "outputs": [],
   "source": [
    "df2 = pd.DataFrame(ga2.logbook)\n",
    "df2.to_csv(\"./res_trials/trial_mut2.csv\", index = False)"
   ]
  },
  {
   "cell_type": "markdown",
   "metadata": {},
   "source": [
    "## **150**"
   ]
  },
  {
   "cell_type": "code",
   "execution_count": 9,
   "metadata": {},
   "outputs": [
    {
     "name": "stdout",
     "output_type": "stream",
     "text": [
      "Generation 0 - Best Individual: [0.2438, 0.1282, 0.0268, 0.0096, 0.0077, 0.0014, 0.0182, 0.0302, 0.288, 0.2461], Max Fitness: 0.6667, Avg Fitness: 0.4328\n",
      "Generation 1 - Best Individual: [0.0309, 0.5278, 0.0284, 0.0544, 0.0953, 0.0404, 0.0745, 0.0302, 0.0185, 0.0996], Max Fitness: 0.6500, Avg Fitness: 0.4278\n",
      "Generation 2 - Best Individual: [0.2182, 0.1649, 0.12, 0.0599, 0.0731, 0.2146, 0.0537, 0.0482, 0.0354, 0.012], Max Fitness: 0.6333, Avg Fitness: 0.4255\n",
      "Generation 3 - Best Individual: [0.0155, 0.1426, 0.0736, 0.0133, 0.0585, 0.3431, 0.1295, 0.0218, 0.0727, 0.1294], Max Fitness: 0.7000, Avg Fitness: 0.4193\n",
      "Generation 4 - Best Individual: [0.2087, 0.1098, 0.0229, 0.0485, 0.0513, 0.1753, 0.0009, 0.0455, 0.1263, 0.2108], Max Fitness: 0.6333, Avg Fitness: 0.4137\n",
      "Generation 5 - Best Individual: [0.1283, 0.1842, 0.134, 0.0669, 0.0816, 0.2398, 0.06, 0.0538, 0.0395, 0.0119], Max Fitness: 0.7000, Avg Fitness: 0.4333\n",
      "Generation 6 - Best Individual: [0.1331, 0.1576, 0.076, 0.0379, 0.0401, 0.1371, 0.0173, 0.133, 0.2667, 0.0012], Max Fitness: 0.7000, Avg Fitness: 0.4303\n",
      "Generation 7 - Best Individual: [0.2017, 0.1061, 0.0351, 0.02, 0.2739, 0.1694, 0.0648, 0.0263, 0.0161, 0.0866], Max Fitness: 0.7333, Avg Fitness: 0.4613\n",
      "Generation 8 - Best Individual: [0.0113, 0.064, 0.1068, 0.081, 0.0056, 0.2421, 0.1076, 0.0235, 0.3257, 0.0324], Max Fitness: 0.7333, Avg Fitness: 0.4323\n",
      "Generation 9 - Best Individual: [0.0113, 0.064, 0.1068, 0.081, 0.0056, 0.2421, 0.1076, 0.0235, 0.3257, 0.0324], Max Fitness: 0.6167, Avg Fitness: 0.4525\n",
      "Generation 10 - Best Individual: [0.0278, 0.1195, 0.1, 0.045, 0.0477, 0.1629, 0.0206, 0.1581, 0.317, 0.0014], Max Fitness: 0.7667, Avg Fitness: 0.4622\n",
      "Generation 11 - Best Individual: [0.0113, 0.064, 0.1068, 0.081, 0.0056, 0.2421, 0.1076, 0.0235, 0.3257, 0.0324], Max Fitness: 0.7833, Avg Fitness: 0.4623\n",
      "Generation 12 - Best Individual: [0.0113, 0.064, 0.1068, 0.081, 0.0056, 0.2421, 0.1076, 0.0235, 0.3257, 0.0324], Max Fitness: 0.6500, Avg Fitness: 0.4438\n",
      "Generation 13 - Best Individual: [0.0113, 0.064, 0.1068, 0.081, 0.0056, 0.2421, 0.1076, 0.0235, 0.3257, 0.0324], Max Fitness: 0.7667, Avg Fitness: 0.4483\n",
      "Generation 14 - Best Individual: [0.0104, 0.0591, 0.0986, 0.0748, 0.0052, 0.2235, 0.0993, 0.0986, 0.3006, 0.0299], Max Fitness: 0.5833, Avg Fitness: 0.4407\n",
      "Generation 15 - Best Individual: [0.0113, 0.064, 0.1068, 0.081, 0.0056, 0.2421, 0.1076, 0.0235, 0.3257, 0.0324], Max Fitness: 0.7333, Avg Fitness: 0.4497\n",
      "Generation 16 - Best Individual: [0.0129, 0.0731, 0.0, 0.0958, 0.0064, 0.2765, 0.123, 0.0, 0.372, 0.0403], Max Fitness: 0.6833, Avg Fitness: 0.4467\n",
      "Generation 17 - Best Individual: [0.0104, 0.0591, 0.0986, 0.0748, 0.0052, 0.2235, 0.0993, 0.0986, 0.3006, 0.0299], Max Fitness: 0.6000, Avg Fitness: 0.4280\n",
      "Generation 18 - Best Individual: [0.0782, 0.0596, 0.0974, 0.0792, 0.0055, 0.2368, 0.0981, 0.0214, 0.2969, 0.0269], Max Fitness: 0.6500, Avg Fitness: 0.4477\n",
      "Generation 19 - Best Individual: [0.0109, 0.0616, 0.1028, 0.078, 0.0054, 0.196, 0.1036, 0.0226, 0.3879, 0.0312], Max Fitness: 0.6667, Avg Fitness: 0.4190\n",
      "Generation 20 - Best Individual: [0.011, 0.0648, 0.1033, 0.0801, 0.0055, 0.2342, 0.104, 0.0245, 0.3388, 0.0338], Max Fitness: 0.7500, Avg Fitness: 0.4393\n",
      "Generation 21 - Best Individual: [0.1075, 0.0518, 0.0931, 0.0691, 0.0056, 0.2643, 0.0159, 0.0217, 0.3006, 0.0704], Max Fitness: 0.6167, Avg Fitness: 0.4375\n",
      "Generation 22 - Best Individual: [0.0736, 0.0561, 0.1005, 0.0762, 0.0053, 0.2279, 0.1013, 0.0221, 0.3065, 0.0305], Max Fitness: 0.6833, Avg Fitness: 0.4335\n",
      "Generation 23 - Best Individual: [0.0114, 0.0649, 0.1064, 0.0781, 0.0054, 0.2344, 0.1149, 0.0206, 0.3348, 0.0291], Max Fitness: 0.7000, Avg Fitness: 0.4532\n",
      "Generation 24 - Best Individual: [0.0096, 0.0625, 0.1044, 0.0792, 0.0055, 0.2366, 0.1052, 0.0913, 0.278, 0.0277], Max Fitness: 0.6667, Avg Fitness: 0.4288\n",
      "Generation 25 - Best Individual: [0.0112, 0.0633, 0.0889, 0.066, 0.0824, 0.217, 0.0965, 0.0207, 0.322, 0.032], Max Fitness: 0.6333, Avg Fitness: 0.4312\n",
      "Generation 26 - Best Individual: [0.0117, 0.0662, 0.1104, 0.0837, 0.0058, 0.2503, 0.1112, 0.0243, 0.3202, 0.0162], Max Fitness: 0.6500, Avg Fitness: 0.4727\n",
      "Generation 27 - Best Individual: [0.0, 0.0677, 0.1221, 0.0855, 0.0059, 0.2558, 0.1136, 0.0248, 0.308, 0.0166], Max Fitness: 0.6667, Avg Fitness: 0.4355\n",
      "Generation 28 - Best Individual: [0.0116, 0.0628, 0.1048, 0.0794, 0.0847, 0.2228, 0.0905, 0.0198, 0.3236, 0.0], Max Fitness: 0.6333, Avg Fitness: 0.4308\n",
      "Generation 29 - Best Individual: [0.0117, 0.0662, 0.1104, 0.0837, 0.0058, 0.2503, 0.1112, 0.0243, 0.3202, 0.0162], Max Fitness: 0.8167, Avg Fitness: 0.4398\n",
      "Generation 30 - Best Individual: [0.0117, 0.0662, 0.1104, 0.0837, 0.0058, 0.2503, 0.1112, 0.0243, 0.3202, 0.0162], Max Fitness: 0.6833, Avg Fitness: 0.4585\n",
      "Generation 31 - Best Individual: [0.065, 0.053, 0.0827, 0.066, 0.0824, 0.2158, 0.096, 0.0209, 0.2893, 0.0289], Max Fitness: 0.6833, Avg Fitness: 0.4667\n",
      "Error in game simulation: No hay nodos válidos disponibles para iniciar el juego\n",
      "Generation 32 - Best Individual: [0.0, 0.0685, 0.1117, 0.0865, 0.006, 0.2588, 0.1149, 0.0251, 0.3117, 0.0168], Max Fitness: 0.7000, Avg Fitness: 0.4357\n",
      "Generation 33 - Best Individual: [0.0117, 0.0661, 0.0888, 0.073, 0.0753, 0.2167, 0.0964, 0.0207, 0.3198, 0.0315], Max Fitness: 0.7000, Avg Fitness: 0.4430\n",
      "Generation 34 - Best Individual: [0.0112, 0.0633, 0.0889, 0.066, 0.0824, 0.217, 0.0965, 0.0207, 0.322, 0.032], Max Fitness: 0.6833, Avg Fitness: 0.4698\n",
      "Error in game simulation: No hay nodos válidos disponibles para iniciar el juego\n",
      "Generation 35 - Best Individual: [0.0133, 0.0638, 0.119, 0.0902, 0.0062, 0.2441, 0.1086, 0.024, 0.3149, 0.0159], Max Fitness: 0.6167, Avg Fitness: 0.4357\n",
      "Generation 36 - Best Individual: [0.0119, 0.0671, 0.0902, 0.0741, 0.0765, 0.2201, 0.0979, 0.021, 0.3248, 0.0164], Max Fitness: 0.6833, Avg Fitness: 0.4693\n",
      "Error in game simulation: No hay nodos válidos disponibles para iniciar el juego\n",
      "Generation 37 - Best Individual: [0.0112, 0.0632, 0.0888, 0.0659, 0.0823, 0.2167, 0.0964, 0.0207, 0.3227, 0.0321], Max Fitness: 0.6500, Avg Fitness: 0.4903\n",
      "Generation 38 - Best Individual: [0.013, 0.0698, 0.1164, 0.0882, 0.0061, 0.2389, 0.1063, 0.0231, 0.3203, 0.0179], Max Fitness: 0.6667, Avg Fitness: 0.4310\n",
      "Generation 39 - Best Individual: [0.0133, 0.0712, 0.1187, 0.0899, 0.0065, 0.2298, 0.1022, 0.0236, 0.3265, 0.0183], Max Fitness: 0.7333, Avg Fitness: 0.4233\n",
      "Generation 40 - Best Individual: [0.013, 0.0698, 0.1164, 0.0882, 0.0061, 0.2389, 0.1063, 0.0231, 0.3203, 0.0179], Max Fitness: 0.6667, Avg Fitness: 0.4570\n",
      "Generation 41 - Best Individual: [0.0119, 0.0671, 0.0943, 0.0901, 0.0065, 0.2302, 0.1024, 0.022, 0.3416, 0.0339], Max Fitness: 0.6500, Avg Fitness: 0.4395\n",
      "Generation 42 - Best Individual: [0.0104, 0.0687, 0.1145, 0.0868, 0.006, 0.235, 0.1061, 0.0193, 0.3006, 0.0526], Max Fitness: 0.7333, Avg Fitness: 0.4477\n",
      "Generation 43 - Best Individual: [0.0102, 0.0681, 0.1134, 0.086, 0.0061, 0.2377, 0.1058, 0.023, 0.2976, 0.0521], Max Fitness: 0.6667, Avg Fitness: 0.4370\n",
      "Generation 44 - Best Individual: [0.013, 0.0698, 0.1164, 0.0882, 0.0061, 0.2389, 0.1063, 0.0231, 0.3203, 0.0179], Max Fitness: 0.8000, Avg Fitness: 0.4582\n",
      "Generation 45 - Best Individual: [0.0448, 0.1243, 0.0955, 0.0723, 0.005, 0.2172, 0.0966, 0.0178, 0.2779, 0.0486], Max Fitness: 0.6667, Avg Fitness: 0.4355\n",
      "Generation 46 - Best Individual: [0.0118, 0.0665, 0.0935, 0.0893, 0.0064, 0.2282, 0.1015, 0.0218, 0.3386, 0.0424], Max Fitness: 0.7167, Avg Fitness: 0.4415\n",
      "Generation 47 - Best Individual: [0.0108, 0.1287, 0.0989, 0.0749, 0.0052, 0.2249, 0.1, 0.0184, 0.2879, 0.0503], Max Fitness: 0.6667, Avg Fitness: 0.4533\n",
      "Generation 48 - Best Individual: [0.013, 0.0692, 0.1155, 0.0875, 0.0061, 0.2396, 0.1066, 0.0232, 0.3213, 0.018], Max Fitness: 0.6500, Avg Fitness: 0.4473\n",
      "Generation 49 - Best Individual: [0.0124, 0.0692, 0.1154, 0.0884, 0.0061, 0.2395, 0.1066, 0.0232, 0.3213, 0.0179], Max Fitness: 0.7000, Avg Fitness: 0.4648\n"
     ]
    }
   ],
   "source": [
    "mutation_prob3 = 0.2\n",
    " \n",
    "ga3 = CatanGA(\n",
    "    population_size=population_size, \n",
    "    generations=generations, \n",
    "    mutation_prob=mutation_prob3, \n",
    "    crossover_prob=crossover_prob,\n",
    "    selection_method=selection_method,\n",
    "    tournament_size=tournament_size,\n",
    "    mutation_sigma=mutation_sigma,\n",
    "    mutation_indpb=mutation_indpb,\n",
    "    num_games_per_individual=num_games_per_individual\n",
    ")\n",
    "\n",
    "best_distribution3 = ga3.run()"
   ]
  },
  {
   "cell_type": "code",
   "execution_count": 10,
   "metadata": {},
   "outputs": [
    {
     "name": "stdout",
     "output_type": "stream",
     "text": [
      "Best probability distribution and agent: ([0.0117, 0.0662, 0.1104, 0.0837, 0.0058, 0.2503, 0.1112, 0.0243, 0.3202, 0.0162], <class 'Agents.SigmaAgent.SigmaAgent'>)\n"
     ]
    }
   ],
   "source": [
    "print(\"Best probability distribution and agent:\", best_distribution3)"
   ]
  },
  {
   "cell_type": "code",
   "execution_count": 11,
   "metadata": {},
   "outputs": [],
   "source": [
    "df3 = pd.DataFrame(ga3.logbook)\n",
    "df3.to_csv(\"./res_trials/trial_mut3.csv\", index = False)"
   ]
  }
 ],
 "metadata": {
  "kernelspec": {
   "display_name": "Python 3",
   "language": "python",
   "name": "python3"
  },
  "language_info": {
   "codemirror_mode": {
    "name": "ipython",
    "version": 3
   },
   "file_extension": ".py",
   "mimetype": "text/x-python",
   "name": "python",
   "nbconvert_exporter": "python",
   "pygments_lexer": "ipython3",
   "version": "3.12.5"
  }
 },
 "nbformat": 4,
 "nbformat_minor": 2
}
