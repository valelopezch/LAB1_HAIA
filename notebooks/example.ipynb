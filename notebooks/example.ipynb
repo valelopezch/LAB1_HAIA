{
 "cells": [
  {
   "cell_type": "code",
   "execution_count": 1,
   "metadata": {},
   "outputs": [
    {
     "ename": "IndexError",
     "evalue": "list index out of range",
     "output_type": "error",
     "traceback": [
      "\u001b[1;31m---------------------------------------------------------------------------\u001b[0m",
      "\u001b[1;31mIndexError\u001b[0m                                Traceback (most recent call last)",
      "Cell \u001b[1;32mIn[1], line 13\u001b[0m\n\u001b[0;32m     11\u001b[0m \u001b[38;5;28;01mfor\u001b[39;00m i \u001b[38;5;129;01min\u001b[39;00m \u001b[38;5;28mrange\u001b[39m(\u001b[38;5;241m100\u001b[39m):\n\u001b[0;32m     12\u001b[0m     random\u001b[38;5;241m.\u001b[39mseed(i)\n\u001b[1;32m---> 13\u001b[0m     \u001b[43mgame_director\u001b[49m\u001b[38;5;241;43m.\u001b[39;49m\u001b[43mgame_start\u001b[49m\u001b[43m(\u001b[49m\u001b[43mi\u001b[49m\u001b[43m,\u001b[49m\u001b[43m \u001b[49m\u001b[38;5;28;43;01mFalse\u001b[39;49;00m\u001b[43m)\u001b[49m\n",
      "File \u001b[1;32mc:\\Users\\edoelas\\git\\PyCatan\\notebooks\\..\\Managers\\GameDirector.py:226\u001b[0m, in \u001b[0;36mGameDirector.game_start\u001b[1;34m(self, game_number, print_outcome)\u001b[0m\n\u001b[0;32m    223\u001b[0m     \u001b[38;5;28mself\u001b[39m\u001b[38;5;241m.\u001b[39mgame_manager\u001b[38;5;241m.\u001b[39mset_whose_turn_is_it(i)\n\u001b[0;32m    225\u001b[0m     \u001b[38;5;66;03m# función recursiva a introducir\u001b[39;00m\n\u001b[1;32m--> 226\u001b[0m     node_id, road_to \u001b[38;5;241m=\u001b[39m \u001b[38;5;28;43mself\u001b[39;49m\u001b[38;5;241;43m.\u001b[39;49m\u001b[43mgame_manager\u001b[49m\u001b[38;5;241;43m.\u001b[39;49m\u001b[43mon_game_start_build_towns_and_roads\u001b[49m\u001b[43m(\u001b[49m\u001b[43mi\u001b[49m\u001b[43m)\u001b[49m\n\u001b[0;32m    227\u001b[0m     setup_object[\u001b[38;5;124m\"\u001b[39m\u001b[38;5;124mP\u001b[39m\u001b[38;5;124m\"\u001b[39m \u001b[38;5;241m+\u001b[39m \u001b[38;5;28mstr\u001b[39m(i)]\u001b[38;5;241m.\u001b[39mappend({\u001b[38;5;124m\"\u001b[39m\u001b[38;5;124mid\u001b[39m\u001b[38;5;124m\"\u001b[39m: node_id, \u001b[38;5;124m\"\u001b[39m\u001b[38;5;124mroad\u001b[39m\u001b[38;5;124m\"\u001b[39m: road_to})\n\u001b[0;32m    229\u001b[0m \u001b[38;5;28;01mfor\u001b[39;00m i \u001b[38;5;129;01min\u001b[39;00m \u001b[38;5;28mrange\u001b[39m(\u001b[38;5;241m3\u001b[39m, \u001b[38;5;241m-\u001b[39m\u001b[38;5;241m1\u001b[39m, \u001b[38;5;241m-\u001b[39m\u001b[38;5;241m1\u001b[39m):\n",
      "File \u001b[1;32mc:\\Users\\edoelas\\git\\PyCatan\\notebooks\\..\\Managers\\GameManager.py:377\u001b[0m, in \u001b[0;36mGameManager.on_game_start_build_towns_and_roads\u001b[1;34m(self, player)\u001b[0m\n\u001b[0;32m    375\u001b[0m terrain_ids \u001b[38;5;241m=\u001b[39m \u001b[38;5;28mself\u001b[39m\u001b[38;5;241m.\u001b[39mboard\u001b[38;5;241m.\u001b[39mnodes[node_id][\u001b[38;5;124m'\u001b[39m\u001b[38;5;124mcontacting_terrain\u001b[39m\u001b[38;5;124m'\u001b[39m]\n\u001b[0;32m    376\u001b[0m \u001b[38;5;28;01mfor\u001b[39;00m ter_id \u001b[38;5;129;01min\u001b[39;00m terrain_ids:\n\u001b[1;32m--> 377\u001b[0m     materials\u001b[38;5;241m.\u001b[39mappend(\u001b[38;5;28;43mself\u001b[39;49m\u001b[38;5;241;43m.\u001b[39;49m\u001b[43mboard\u001b[49m\u001b[38;5;241;43m.\u001b[39;49m\u001b[43mterrain\u001b[49m\u001b[43m[\u001b[49m\u001b[43mter_id\u001b[49m\u001b[43m]\u001b[49m[\u001b[38;5;124m'\u001b[39m\u001b[38;5;124mterrain_type\u001b[39m\u001b[38;5;124m'\u001b[39m])\n\u001b[0;32m    379\u001b[0m \u001b[38;5;28mself\u001b[39m\u001b[38;5;241m.\u001b[39mboard\u001b[38;5;241m.\u001b[39mnodes[node_id][\u001b[38;5;124m'\u001b[39m\u001b[38;5;124mplayer\u001b[39m\u001b[38;5;124m'\u001b[39m] \u001b[38;5;241m=\u001b[39m player\n\u001b[0;32m    381\u001b[0m \u001b[38;5;66;03m# Se le dan materiales al AgentManager y este a los agentes para que sepan cuantos tienen en realidad\u001b[39;00m\n",
      "\u001b[1;31mIndexError\u001b[0m: list index out of range"
     ]
    }
   ],
   "source": [
    "import sys\n",
    "sys.path.append('..') # This is to add the parent directory to the path\n",
    "\n",
    "from Managers.GameDirector import GameDirector\n",
    "from Agents.RandomAgent import RandomAgent as ra\n",
    "from Agents.AdrianHerasAgent import AdrianHerasAgent as aha\n",
    "import random\n",
    "\n",
    "# generar 100 partidas con 4 agentes aleatorios\n",
    "game_director = GameDirector(agents=(ra, ra, aha, aha), max_rounds=200)\n",
    "for i in range(100):\n",
    "    random.seed(i)\n",
    "    game_director.game_start(i, False)"
   ]
  },
  {
   "cell_type": "code",
   "execution_count": 4,
   "metadata": {},
   "outputs": [
    {
     "name": "stdout",
     "output_type": "stream",
     "text": [
      " 1🥖  2🪨  3🧱  4🪵  5🧶\n",
      "total:  15\n",
      "max idx:  4\n",
      "resta de materiales:  -1🥖  0🪨  1🧱  2🪵  3🧶\n",
      "suma de materiales:   3🥖  4🪨  5🧱  6🪵  7🧶\n",
      "multiplicacion de materiales:   2🥖  4🪨  6🧱  8🪵 10🧶\n",
      "poner negativos a 0:  1🥖  2🪨  0🧱  4🪵  0🧶\n",
      "poner negativos a 0 alternativa:  1🥖  2🪨  0🧱  4🪵  0🧶\n",
      "añadir 10 al cereal: 11🥖  2🪨  3🧱  4🪵  5🧶\n"
     ]
    }
   ],
   "source": [
    "# operaciones sobre recursos como lista\n",
    "from Classes.Materials import Materials\n",
    "from Classes.Constants import MaterialConstants as mc\n",
    "\n",
    "# Crear y print\n",
    "mat1 = Materials(1,2,3,4,5)\n",
    "print(mat1)\n",
    "mat2 = Materials(2,2,2,2,2)\n",
    "\n",
    "\n",
    "print('total: ', sum(mat1))\n",
    "print('max idx: ', max(range(len(mat1)), key=mat1.get_from_id)) # con librerias como numpy esto es mas facil\n",
    "print('resta de materiales: ', mat1 - mat2)\n",
    "print('suma de materiales: ', mat1 + mat2)\n",
    "print('multiplicacion de materiales: ', mat1 * 2)\n",
    "mat3 = Materials(1,2,-3,4,-1)\n",
    "print('poner negativos a 0:', Materials(*map(lambda x: x if x > 0 else 0, mat3)))\n",
    "print('poner negativos a 0 alternativa:', Materials(*[x if x > 0 else 0 for x in mat3]))\n",
    "print('añadir 10 al cereal:', mat1.add_from_id(mc.CEREAL, 10))"
   ]
  },
  {
   "cell_type": "code",
   "execution_count": null,
   "metadata": {},
   "outputs": [],
   "source": []
  }
 ],
 "metadata": {
  "kernelspec": {
   "display_name": ".venv",
   "language": "python",
   "name": "python3"
  },
  "language_info": {
   "codemirror_mode": {
    "name": "ipython",
    "version": 3
   },
   "file_extension": ".py",
   "mimetype": "text/x-python",
   "name": "python",
   "nbconvert_exporter": "python",
   "pygments_lexer": "ipython3",
   "version": "3.10.11"
  }
 },
 "nbformat": 4,
 "nbformat_minor": 2
}
