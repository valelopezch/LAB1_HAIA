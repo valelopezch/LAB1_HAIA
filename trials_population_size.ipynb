{
 "cells": [
  {
   "cell_type": "markdown",
   "metadata": {},
   "source": [
    "# **Tamaño Población**"
   ]
  },
  {
   "cell_type": "code",
   "execution_count": 1,
   "metadata": {},
   "outputs": [],
   "source": [
    "from algorithm import CatanGA\n",
    "import pandas as pd"
   ]
  },
  {
   "cell_type": "code",
   "execution_count": 2,
   "metadata": {},
   "outputs": [],
   "source": [
    "generations = 50\n",
    "mutation_prob = 0.1\n",
    "crossover_prob = 0.5\n",
    "selection_method = \"tournament\"  # Options: \"tournament\", \"roulette\", \"best\"\n",
    "tournament_size = 4\n",
    "mutation_sigma = 0.05\n",
    "mutation_indpb = 0.1\n",
    "num_games_per_individual = 15"
   ]
  },
  {
   "cell_type": "markdown",
   "metadata": {},
   "source": [
    "## **100**"
   ]
  },
  {
   "cell_type": "code",
   "execution_count": 3,
   "metadata": {},
   "outputs": [
    {
     "name": "stdout",
     "output_type": "stream",
     "text": [
      "Generation 0 - Best Individual: [0.0737, 0.0924, 0.0564, 0.0791, 0.0734, 0.019, 0.0678, 0.3987, 0.0199, 0.1196], Max Fitness: 0.6333, Avg Fitness: 0.4210\n",
      "Generation 1 - Best Individual: [0.031, 0.0331, 0.047, 0.2523, 0.1365, 0.0771, 0.0764, 0.1845, 0.0977, 0.0644], Max Fitness: 0.7000, Avg Fitness: 0.4367\n",
      "Generation 2 - Best Individual: [0.0, 0.1238, 0.1497, 0.0701, 0.0563, 0.1221, 0.0345, 0.2489, 0.0436, 0.151], Max Fitness: 0.7167, Avg Fitness: 0.4398\n",
      "Generation 3 - Best Individual: [0.1144, 0.0791, 0.0575, 0.0354, 0.0296, 0.1023, 0.3121, 0.1398, 0.0925, 0.0373], Max Fitness: 0.7667, Avg Fitness: 0.4380\n",
      "Generation 4 - Best Individual: [0.0503, 0.0774, 0.0754, 0.0068, 0.1872, 0.1084, 0.1546, 0.0609, 0.1895, 0.0895], Max Fitness: 0.7000, Avg Fitness: 0.4430\n",
      "Generation 5 - Best Individual: [0.0752, 0.096, 0.0292, 0.092, 0.0954, 0.069, 0.0561, 0.0354, 0.3878, 0.0639], Max Fitness: 0.7500, Avg Fitness: 0.4587\n",
      "Generation 6 - Best Individual: [0.0281, 0.0202, 0.0998, 0.0908, 0.2893, 0.033, 0.0183, 0.083, 0.1932, 0.1443], Max Fitness: 0.6500, Avg Fitness: 0.4453\n",
      "Generation 7 - Best Individual: [0.0456, 0.0723, 0.0497, 0.0589, 0.1403, 0.0266, 0.0754, 0.0631, 0.389, 0.0791], Max Fitness: 0.7333, Avg Fitness: 0.4472\n",
      "Generation 8 - Best Individual: [0.0405, 0.0749, 0.103, 0.0672, 0.0784, 0.0855, 0.1167, 0.1794, 0.1111, 0.1433], Max Fitness: 0.7167, Avg Fitness: 0.4305\n",
      "Generation 9 - Best Individual: [0.0281, 0.0202, 0.0998, 0.0908, 0.2893, 0.033, 0.0183, 0.083, 0.1932, 0.1443], Max Fitness: 0.6667, Avg Fitness: 0.4490\n",
      "Generation 10 - Best Individual: [0.0649, 0.0766, 0.0923, 0.0371, 0.1765, 0.1184, 0.0578, 0.1207, 0.1161, 0.1396], Max Fitness: 0.7167, Avg Fitness: 0.4545\n",
      "Generation 11 - Best Individual: [0.0515, 0.0, 0.0846, 0.0978, 0.1532, 0.0686, 0.0564, 0.1112, 0.2508, 0.1259], Max Fitness: 0.6667, Avg Fitness: 0.4455\n",
      "Generation 12 - Best Individual: [0.0515, 0.0, 0.0846, 0.0978, 0.1532, 0.0686, 0.0564, 0.1112, 0.2508, 0.1259], Max Fitness: 0.6333, Avg Fitness: 0.4215\n",
      "Generation 13 - Best Individual: [0.0281, 0.0202, 0.0998, 0.0908, 0.2893, 0.033, 0.0183, 0.083, 0.1932, 0.1443], Max Fitness: 0.6833, Avg Fitness: 0.4455\n",
      "Generation 14 - Best Individual: [0.049, 0.0175, 0.0767, 0.1007, 0.1679, 0.0636, 0.0584, 0.0938, 0.2527, 0.1197], Max Fitness: 0.6667, Avg Fitness: 0.4458\n",
      "Generation 15 - Best Individual: [0.0461, 0.0604, 0.0728, 0.0615, 0.1865, 0.0512, 0.0567, 0.0824, 0.2719, 0.1105], Max Fitness: 0.6833, Avg Fitness: 0.4185\n",
      "Generation 16 - Best Individual: [0.0374, 0.0439, 0.0893, 0.0831, 0.2318, 0.0487, 0.0356, 0.089, 0.2098, 0.1314], Max Fitness: 0.7167, Avg Fitness: 0.4758\n",
      "Generation 17 - Best Individual: [0.0431, 0.0706, 0.0972, 0.1016, 0.186, 0.0738, 0.0317, 0.1148, 0.1399, 0.1413], Max Fitness: 0.6333, Avg Fitness: 0.4490\n",
      "Generation 18 - Best Individual: [0.0593, 0.0653, 0.0449, 0.0235, 0.1267, 0.024, 0.0681, 0.1656, 0.3512, 0.0714], Max Fitness: 0.7333, Avg Fitness: 0.4500\n",
      "Error in game simulation: No hay nodos válidos disponibles para iniciar el juego\n",
      "Generation 19 - Best Individual: [0.0469, 0.0503, 0.0851, 0.0786, 0.2106, 0.06, 0.0527, 0.0905, 0.1974, 0.1279], Max Fitness: 0.6833, Avg Fitness: 0.4165\n",
      "Generation 20 - Best Individual: [0.0462, 0.0369, 0.0759, 0.0901, 0.1885, 0.0612, 0.0559, 0.0857, 0.2408, 0.1188], Max Fitness: 0.7167, Avg Fitness: 0.4502\n",
      "Error in game simulation: No hay nodos válidos disponibles para iniciar el juego\n",
      "Generation 21 - Best Individual: [0.0442, 0.0393, 0.0824, 0.0927, 0.1908, 0.0614, 0.0489, 0.0938, 0.2216, 0.1249], Max Fitness: 0.7000, Avg Fitness: 0.4570\n",
      "Generation 22 - Best Individual: [0.0465, 0.0301, 0.0726, 0.1035, 0.1935, 0.066, 0.0592, 0.0793, 0.2301, 0.1192], Max Fitness: 0.7000, Avg Fitness: 0.4608\n",
      "Generation 23 - Best Individual: [0.0708, 0.0493, 0.0874, 0.0774, 0.1754, 0.0774, 0.0467, 0.1071, 0.1786, 0.1299], Max Fitness: 0.6167, Avg Fitness: 0.4702\n",
      "Generation 24 - Best Individual: [0.0444, 0.0287, 0.0693, 0.0987, 0.1846, 0.063, 0.0565, 0.0757, 0.2654, 0.1137], Max Fitness: 0.6500, Avg Fitness: 0.4057\n",
      "Generation 25 - Best Individual: [0.0469, 0.0503, 0.0851, 0.0786, 0.2106, 0.06, 0.0527, 0.0905, 0.1974, 0.1279], Max Fitness: 0.8167, Avg Fitness: 0.4483\n",
      "Generation 26 - Best Individual: [0.0468, 0.0452, 0.082, 0.0848, 0.2063, 0.0615, 0.0543, 0.0877, 0.2056, 0.1258], Max Fitness: 0.7000, Avg Fitness: 0.4255\n",
      "Generation 27 - Best Individual: [0.0356, 0.0493, 0.0821, 0.0793, 0.2058, 0.0593, 0.0552, 0.0948, 0.2136, 0.125], Max Fitness: 0.7333, Avg Fitness: 0.4553\n",
      "Generation 28 - Best Individual: [0.0444, 0.0287, 0.0693, 0.0987, 0.1846, 0.063, 0.0565, 0.0757, 0.2654, 0.1137], Max Fitness: 0.7167, Avg Fitness: 0.4662\n",
      "Generation 29 - Best Individual: [0.0227, 0.0463, 0.0841, 0.0869, 0.2115, 0.0631, 0.0557, 0.0899, 0.2108, 0.129], Max Fitness: 0.7333, Avg Fitness: 0.4467\n",
      "Generation 30 - Best Individual: [0.0477, 0.0393, 0.0798, 0.0464, 0.2052, 0.0652, 0.0576, 0.0865, 0.2463, 0.126], Max Fitness: 0.6500, Avg Fitness: 0.4292\n",
      "Generation 31 - Best Individual: [0.0, 0.0448, 0.0826, 0.0906, 0.2105, 0.064, 0.0583, 0.0925, 0.2371, 0.1196], Max Fitness: 0.7167, Avg Fitness: 0.4195\n",
      "Generation 32 - Best Individual: [0.0444, 0.0287, 0.0693, 0.0987, 0.1846, 0.063, 0.0565, 0.0757, 0.2654, 0.1137], Max Fitness: 0.6833, Avg Fitness: 0.4413\n",
      "Generation 33 - Best Individual: [0.0444, 0.0287, 0.0693, 0.0987, 0.1846, 0.063, 0.0565, 0.0757, 0.2654, 0.1137], Max Fitness: 0.7333, Avg Fitness: 0.4487\n",
      "Generation 34 - Best Individual: [0.0466, 0.0463, 0.0829, 0.0836, 0.2065, 0.0611, 0.0534, 0.089, 0.2042, 0.1264], Max Fitness: 0.6500, Avg Fitness: 0.4740\n",
      "Generation 35 - Best Individual: [0.0444, 0.0287, 0.0693, 0.0987, 0.1846, 0.063, 0.0565, 0.0757, 0.2654, 0.1137], Max Fitness: 0.6500, Avg Fitness: 0.4490\n",
      "Generation 36 - Best Individual: [0.0432, 0.0369, 0.0751, 0.0911, 0.1983, 0.0617, 0.0552, 0.0821, 0.2376, 0.1188], Max Fitness: 0.6500, Avg Fitness: 0.4360\n",
      "Error in game simulation: No hay nodos válidos disponibles para iniciar el juego\n",
      "Generation 37 - Best Individual: [0.0432, 0.0372, 0.0754, 0.0907, 0.1988, 0.0616, 0.0551, 0.0822, 0.2368, 0.119], Max Fitness: 0.7167, Avg Fitness: 0.4462\n",
      "Generation 38 - Best Individual: [0.0432, 0.0369, 0.0751, 0.0911, 0.1983, 0.0617, 0.0552, 0.0821, 0.2376, 0.1188], Max Fitness: 0.6833, Avg Fitness: 0.4438\n",
      "Generation 39 - Best Individual: [0.0432, 0.0369, 0.0751, 0.0911, 0.1983, 0.0617, 0.0552, 0.0821, 0.2376, 0.1188], Max Fitness: 0.7333, Avg Fitness: 0.4313\n",
      "Generation 40 - Best Individual: [0.0428, 0.0408, 0.0733, 0.0867, 0.1958, 0.0607, 0.054, 0.1051, 0.22, 0.1208], Max Fitness: 0.7500, Avg Fitness: 0.4748\n",
      "Generation 41 - Best Individual: [0.0426, 0.0418, 0.074, 0.0857, 0.1975, 0.0605, 0.0539, 0.106, 0.2165, 0.1215], Max Fitness: 0.7333, Avg Fitness: 0.4388\n",
      "Generation 42 - Best Individual: [0.0423, 0.042, 0.0756, 0.0857, 0.2006, 0.0605, 0.0539, 0.1005, 0.2173, 0.1216], Max Fitness: 0.6500, Avg Fitness: 0.4553\n",
      "Error in game simulation: No hay nodos válidos disponibles para iniciar el juego\n",
      "Generation 43 - Best Individual: [0.0435, 0.0422, 0.0729, 0.0854, 0.1938, 0.0605, 0.0536, 0.1129, 0.2134, 0.1218], Max Fitness: 0.6833, Avg Fitness: 0.4492\n",
      "Generation 44 - Best Individual: [0.0429, 0.0416, 0.0736, 0.0859, 0.1963, 0.0605, 0.0539, 0.107, 0.217, 0.1213], Max Fitness: 0.7000, Avg Fitness: 0.4415\n",
      "Generation 45 - Best Individual: [0.0435, 0.0422, 0.0729, 0.0854, 0.1938, 0.0605, 0.0536, 0.1129, 0.2134, 0.1218], Max Fitness: 0.7167, Avg Fitness: 0.4485\n",
      "Generation 46 - Best Individual: [0.0427, 0.0415, 0.0751, 0.0862, 0.1991, 0.0606, 0.0543, 0.1003, 0.2189, 0.1213], Max Fitness: 0.7167, Avg Fitness: 0.4502\n",
      "Generation 47 - Best Individual: [0.0428, 0.0408, 0.0733, 0.0867, 0.1958, 0.0607, 0.054, 0.1051, 0.22, 0.1208], Max Fitness: 0.6833, Avg Fitness: 0.4530\n",
      "Generation 48 - Best Individual: [0.0428, 0.0408, 0.0733, 0.0867, 0.1958, 0.0607, 0.054, 0.1051, 0.22, 0.1208], Max Fitness: 0.6500, Avg Fitness: 0.4152\n",
      "Generation 49 - Best Individual: [0.0216, 0.0431, 0.0785, 0.0881, 0.2042, 0.0622, 0.0551, 0.1005, 0.2217, 0.125], Max Fitness: 0.7167, Avg Fitness: 0.4408\n"
     ]
    }
   ],
   "source": [
    "population_size1 = 100\n",
    "\n",
    "ga1 = CatanGA(\n",
    "    population_size=population_size1, \n",
    "    generations=generations, \n",
    "    mutation_prob=mutation_prob, \n",
    "    crossover_prob=crossover_prob,\n",
    "    selection_method=selection_method,\n",
    "    tournament_size=tournament_size,\n",
    "    mutation_sigma=mutation_sigma,\n",
    "    mutation_indpb=mutation_indpb,\n",
    "    num_games_per_individual=num_games_per_individual\n",
    ")\n",
    "\n",
    "best_distribution1 = ga1.run()"
   ]
  },
  {
   "cell_type": "code",
   "execution_count": 4,
   "metadata": {},
   "outputs": [
    {
     "name": "stdout",
     "output_type": "stream",
     "text": [
      "Best probability distribution and agent: ([0.0469, 0.0503, 0.0851, 0.0786, 0.2106, 0.06, 0.0527, 0.0905, 0.1974, 0.1279], <class 'Agents.CarlesZaidaAgent.CarlesZaidaAgent'>)\n"
     ]
    }
   ],
   "source": [
    "print(\"Best probability distribution and agent:\", best_distribution1)"
   ]
  },
  {
   "cell_type": "code",
   "execution_count": 5,
   "metadata": {},
   "outputs": [],
   "source": [
    "df1 = pd.DataFrame(ga1.logbook)\n",
    "df1.to_csv(\"./res_trials/trial_population1.csv\", index = False)"
   ]
  },
  {
   "cell_type": "markdown",
   "metadata": {},
   "source": [
    "## **150**"
   ]
  },
  {
   "cell_type": "code",
   "execution_count": 6,
   "metadata": {},
   "outputs": [
    {
     "name": "stderr",
     "output_type": "stream",
     "text": [
      "c:\\Users\\valel\\AppData\\Local\\Programs\\Python\\Python312\\Lib\\site-packages\\deap\\creator.py:185: RuntimeWarning: A class named 'FitnessMax' has already been created and it will be overwritten. Consider deleting previous creation of that class or rename it.\n",
      "  warnings.warn(\"A class named '{0}' has already been created and it \"\n",
      "c:\\Users\\valel\\AppData\\Local\\Programs\\Python\\Python312\\Lib\\site-packages\\deap\\creator.py:185: RuntimeWarning: A class named 'Individual' has already been created and it will be overwritten. Consider deleting previous creation of that class or rename it.\n",
      "  warnings.warn(\"A class named '{0}' has already been created and it \"\n"
     ]
    },
    {
     "name": "stdout",
     "output_type": "stream",
     "text": [
      "Generation 0 - Best Individual: [0.0037, 0.0383, 0.0505, 0.0634, 0.0442, 0.2164, 0.1381, 0.2036, 0.1468, 0.095], Max Fitness: 0.7167, Avg Fitness: 0.4470\n",
      "Generation 1 - Best Individual: [0.0055, 0.1361, 0.0079, 0.0279, 0.1003, 0.0346, 0.078, 0.3111, 0.2227, 0.0759], Max Fitness: 0.6667, Avg Fitness: 0.4430\n",
      "Generation 2 - Best Individual: [0.0329, 0.0309, 0.0445, 0.1069, 0.1043, 0.0467, 0.3575, 0.1035, 0.1041, 0.0687], Max Fitness: 0.7000, Avg Fitness: 0.4332\n",
      "Generation 3 - Best Individual: [0.0174, 0.131, 0.0756, 0.019, 0.1853, 0.0928, 0.064, 0.0655, 0.2711, 0.0783], Max Fitness: 0.8167, Avg Fitness: 0.4371\n",
      "Generation 4 - Best Individual: [0.036, 0.1084, 0.2258, 0.041, 0.1341, 0.0635, 0.0721, 0.0784, 0.1822, 0.0585], Max Fitness: 0.7000, Avg Fitness: 0.4427\n",
      "Generation 5 - Best Individual: [0.0275, 0.0882, 0.129, 0.088, 0.0967, 0.0714, 0.1437, 0.0981, 0.1882, 0.0692], Max Fitness: 0.6833, Avg Fitness: 0.4560\n",
      "Generation 6 - Best Individual: [0.0198, 0.0733, 0.1381, 0.0522, 0.0892, 0.14, 0.1051, 0.141, 0.1646, 0.0767], Max Fitness: 0.6833, Avg Fitness: 0.4547\n",
      "Generation 7 - Best Individual: [0.0261, 0.0864, 0.0675, 0.1493, 0.078, 0.0583, 0.1331, 0.0987, 0.2195, 0.0831], Max Fitness: 0.6167, Avg Fitness: 0.4271\n",
      "Generation 8 - Best Individual: [0.0599, 0.0394, 0.0866, 0.2202, 0.0775, 0.0728, 0.1352, 0.0943, 0.1479, 0.0662], Max Fitness: 0.7333, Avg Fitness: 0.4617\n",
      "Generation 9 - Best Individual: [0.0476, 0.0464, 0.0811, 0.1699, 0.0914, 0.0651, 0.1853, 0.0995, 0.1425, 0.0712], Max Fitness: 0.7333, Avg Fitness: 0.4548\n",
      "Generation 10 - Best Individual: [0.0387, 0.0285, 0.088, 0.0999, 0.0724, 0.19, 0.2007, 0.0985, 0.1074, 0.0759], Max Fitness: 0.6833, Avg Fitness: 0.4504\n",
      "Generation 11 - Best Individual: [0.0506, 0.0442, 0.1031, 0.1225, 0.0797, 0.1685, 0.1395, 0.0809, 0.1368, 0.0742], Max Fitness: 0.7167, Avg Fitness: 0.4486\n",
      "Generation 12 - Best Individual: [0.0447, 0.0541, 0.094, 0.1681, 0.0837, 0.0803, 0.135, 0.1082, 0.155, 0.0769], Max Fitness: 0.7167, Avg Fitness: 0.4410\n",
      "Error in game simulation: No hay nodos válidos disponibles para iniciar el juego\n",
      "Generation 13 - Best Individual: [0.0242, 0.0517, 0.0556, 0.1081, 0.0605, 0.1307, 0.1697, 0.1464, 0.1693, 0.0838], Max Fitness: 0.6667, Avg Fitness: 0.4437\n",
      "Error in game simulation: No hay nodos válidos disponibles para iniciar el juego\n",
      "Generation 14 - Best Individual: [0.0561, 0.043, 0.0885, 0.2071, 0.0791, 0.0747, 0.1351, 0.0978, 0.1497, 0.0689], Max Fitness: 0.8000, Avg Fitness: 0.4509\n",
      "Generation 15 - Best Individual: [0.0561, 0.043, 0.0885, 0.2071, 0.0791, 0.0747, 0.1351, 0.0978, 0.1497, 0.0689], Max Fitness: 0.6500, Avg Fitness: 0.4508\n",
      "Generation 16 - Best Individual: [0.0434, 0.0528, 0.0828, 0.1657, 0.0809, 0.0961, 0.158, 0.0761, 0.1644, 0.0798], Max Fitness: 0.7167, Avg Fitness: 0.4480\n",
      "Error in game simulation: No hay nodos válidos disponibles para iniciar el juego\n",
      "Generation 17 - Best Individual: [0.0294, 0.0714, 0.084, 0.1233, 0.0885, 0.0795, 0.1471, 0.1154, 0.1771, 0.0843], Max Fitness: 0.6833, Avg Fitness: 0.4393\n",
      "Generation 18 - Best Individual: [0.0294, 0.0714, 0.084, 0.1233, 0.0885, 0.0795, 0.1471, 0.1154, 0.1771, 0.0843], Max Fitness: 0.7000, Avg Fitness: 0.4592\n",
      "Generation 19 - Best Individual: [0.0392, 0.0597, 0.0834, 0.1539, 0.0827, 0.0807, 0.1487, 0.1075, 0.1665, 0.0777], Max Fitness: 0.6500, Avg Fitness: 0.4563\n",
      "Generation 20 - Best Individual: [0.0495, 0.0446, 0.0817, 0.1833, 0.0775, 0.0857, 0.1502, 0.1051, 0.1508, 0.0716], Max Fitness: 0.7000, Avg Fitness: 0.4408\n",
      "Generation 21 - Best Individual: [0.0268, 0.0616, 0.0698, 0.1157, 0.0745, 0.1051, 0.1584, 0.1309, 0.1732, 0.084], Max Fitness: 0.7333, Avg Fitness: 0.4426\n",
      "Generation 22 - Best Individual: [0.0508, 0.0508, 0.0921, 0.1867, 0.0871, 0.0754, 0.1454, 0.1039, 0.155, 0.0528], Max Fitness: 0.6833, Avg Fitness: 0.4540\n",
      "Generation 23 - Best Individual: [0.0437, 0.0488, 0.0789, 0.1663, 0.0764, 0.0874, 0.1492, 0.1088, 0.1669, 0.0736], Max Fitness: 0.6833, Avg Fitness: 0.4226\n",
      "Generation 24 - Best Individual: [0.0532, 0.0462, 0.089, 0.1954, 0.0826, 0.0735, 0.1399, 0.0992, 0.1504, 0.0706], Max Fitness: 0.7167, Avg Fitness: 0.4456\n",
      "Generation 25 - Best Individual: [0.0481, 0.055, 0.0946, 0.1765, 0.0908, 0.0844, 0.1497, 0.1078, 0.1583, 0.0348], Max Fitness: 0.7500, Avg Fitness: 0.4583\n",
      "Error in game simulation: No hay nodos válidos disponibles para iniciar el juego\n",
      "Generation 26 - Best Individual: [0.0, 0.0496, 0.0875, 0.1886, 0.083, 0.0839, 0.1509, 0.1157, 0.1656, 0.0752], Max Fitness: 0.7167, Avg Fitness: 0.4316\n",
      "Generation 27 - Best Individual: [0.0519, 0.0481, 0.0893, 0.1923, 0.0844, 0.0843, 0.1162, 0.1019, 0.1569, 0.0747], Max Fitness: 0.6833, Avg Fitness: 0.4543\n",
      "Error in game simulation: No hay nodos válidos disponibles para iniciar el juego\n",
      "Generation 28 - Best Individual: [0.0453, 0.0506, 0.0817, 0.1723, 0.0791, 0.0905, 0.1502, 0.1127, 0.1372, 0.0804], Max Fitness: 0.6667, Avg Fitness: 0.4374\n",
      "Generation 29 - Best Individual: [0.0511, 0.0447, 0.0887, 0.189, 0.0823, 0.0785, 0.1366, 0.1031, 0.1555, 0.0705], Max Fitness: 0.7167, Avg Fitness: 0.4586\n",
      "Generation 30 - Best Individual: [0.0457, 0.061, 0.0909, 0.1708, 0.0908, 0.0766, 0.1446, 0.104, 0.159, 0.0566], Max Fitness: 0.7000, Avg Fitness: 0.4283\n",
      "Generation 31 - Best Individual: [0.0485, 0.0475, 0.0839, 0.1808, 0.0795, 0.0804, 0.1446, 0.104, 0.1587, 0.0721], Max Fitness: 0.7333, Avg Fitness: 0.4292\n",
      "Generation 32 - Best Individual: [0.0515, 0.0464, 0.089, 0.1906, 0.0834, 0.0814, 0.1264, 0.1025, 0.1562, 0.0726], Max Fitness: 0.7333, Avg Fitness: 0.4532\n",
      "Generation 33 - Best Individual: [0.0407, 0.0493, 0.0873, 0.1767, 0.0825, 0.0814, 0.1469, 0.1026, 0.1603, 0.0723], Max Fitness: 0.6167, Avg Fitness: 0.4354\n",
      "Generation 34 - Best Individual: [0.0494, 0.0427, 0.0887, 0.1838, 0.0809, 0.0786, 0.1449, 0.1046, 0.1577, 0.0687], Max Fitness: 0.8000, Avg Fitness: 0.4574\n",
      "Generation 35 - Best Individual: [0.0503, 0.0466, 0.0865, 0.1465, 0.1527, 0.0817, 0.1126, 0.0987, 0.152, 0.0724], Max Fitness: 0.7667, Avg Fitness: 0.4250\n",
      "Generation 36 - Best Individual: [0.0507, 0.0493, 0.0913, 0.1871, 0.0853, 0.0794, 0.1354, 0.1015, 0.1565, 0.0635], Max Fitness: 0.6833, Avg Fitness: 0.4467\n",
      "Generation 37 - Best Individual: [0.0448, 0.0478, 0.0851, 0.1799, 0.0804, 0.0842, 0.1471, 0.1084, 0.1469, 0.0754], Max Fitness: 0.6833, Avg Fitness: 0.4693\n",
      "Error in game simulation: No hay nodos válidos disponibles para iniciar el juego\n",
      "Generation 38 - Best Individual: [0.045, 0.0474, 0.0893, 0.1844, 0.0829, 0.0788, 0.1449, 0.1029, 0.1575, 0.0669], Max Fitness: 0.6667, Avg Fitness: 0.4298\n",
      "Generation 39 - Best Individual: [0.0494, 0.0427, 0.0887, 0.1838, 0.0809, 0.0786, 0.1449, 0.1046, 0.1577, 0.0687], Max Fitness: 0.6667, Avg Fitness: 0.4400\n",
      "Generation 40 - Best Individual: [0.0477, 0.0472, 0.0884, 0.1886, 0.0831, 0.0814, 0.1314, 0.1024, 0.1568, 0.073], Max Fitness: 0.7167, Avg Fitness: 0.4552\n",
      "Generation 41 - Best Individual: [0.0766, 0.0468, 0.0832, 0.1807, 0.0685, 0.0776, 0.1424, 0.1012, 0.1548, 0.0682], Max Fitness: 0.7500, Avg Fitness: 0.4586\n",
      "Generation 42 - Best Individual: [0.0875, 0.0468, 0.0816, 0.1805, 0.0639, 0.0728, 0.1423, 0.1011, 0.1546, 0.0689], Max Fitness: 0.7500, Avg Fitness: 0.4443\n",
      "Generation 43 - Best Individual: [0.0827, 0.046, 0.0841, 0.1741, 0.0789, 0.0771, 0.138, 0.0988, 0.1517, 0.0686], Max Fitness: 0.6333, Avg Fitness: 0.4329\n",
      "Generation 44 - Best Individual: [0.0755, 0.0454, 0.0845, 0.1779, 0.0756, 0.0775, 0.1406, 0.1007, 0.1537, 0.0686], Max Fitness: 0.6500, Avg Fitness: 0.4566\n",
      "Error in game simulation: No hay nodos válidos disponibles para iniciar el juego\n",
      "Generation 45 - Best Individual: [0.0645, 0.0, 0.0892, 0.1914, 0.0788, 0.0842, 0.1479, 0.1084, 0.1609, 0.0747], Max Fitness: 0.6333, Avg Fitness: 0.4474\n",
      "Generation 46 - Best Individual: [0.0755, 0.0454, 0.0845, 0.1779, 0.0756, 0.0775, 0.1406, 0.1007, 0.1537, 0.0686], Max Fitness: 0.7833, Avg Fitness: 0.4308\n",
      "Generation 47 - Best Individual: [0.0693, 0.0449, 0.0847, 0.1817, 0.0718, 0.0779, 0.1431, 0.1024, 0.1557, 0.0685], Max Fitness: 0.7333, Avg Fitness: 0.4451\n",
      "Generation 48 - Best Individual: [0.0703, 0.0498, 0.0846, 0.1783, 0.0777, 0.0776, 0.1394, 0.1004, 0.1535, 0.0684], Max Fitness: 0.7167, Avg Fitness: 0.4397\n",
      "Generation 49 - Best Individual: [0.0668, 0.0485, 0.0852, 0.1821, 0.0744, 0.0783, 0.1395, 0.1017, 0.1554, 0.0681], Max Fitness: 0.6500, Avg Fitness: 0.4334\n"
     ]
    }
   ],
   "source": [
    "population_size2 = 150\n",
    " \n",
    "\n",
    "ga2 = CatanGA(\n",
    "    population_size=population_size2, \n",
    "    generations=generations, \n",
    "    mutation_prob=mutation_prob, \n",
    "    crossover_prob=crossover_prob,\n",
    "    selection_method=selection_method,\n",
    "    tournament_size=tournament_size,\n",
    "    mutation_sigma=mutation_sigma,\n",
    "    mutation_indpb=mutation_indpb,\n",
    "    num_games_per_individual=num_games_per_individual\n",
    ")\n",
    "\n",
    "best_distribution2 = ga2.run()"
   ]
  },
  {
   "cell_type": "code",
   "execution_count": 7,
   "metadata": {},
   "outputs": [
    {
     "name": "stdout",
     "output_type": "stream",
     "text": [
      "Best probability distribution and agent: ([0.0174, 0.131, 0.0756, 0.019, 0.1853, 0.0928, 0.064, 0.0655, 0.2711, 0.0783], <class 'Agents.SigmaAgent.SigmaAgent'>)\n"
     ]
    }
   ],
   "source": [
    "print(\"Best probability distribution and agent:\", best_distribution2)"
   ]
  },
  {
   "cell_type": "code",
   "execution_count": 8,
   "metadata": {},
   "outputs": [],
   "source": [
    "df2 = pd.DataFrame(ga2.logbook)\n",
    "df2.to_csv(\"./res_trials/trial_population2.csv\", index = False)"
   ]
  },
  {
   "cell_type": "markdown",
   "metadata": {},
   "source": [
    "## **200**"
   ]
  },
  {
   "cell_type": "code",
   "execution_count": 9,
   "metadata": {},
   "outputs": [
    {
     "name": "stdout",
     "output_type": "stream",
     "text": [
      "Generation 0 - Best Individual: [0.1622, 0.0725, 0.066, 0.0313, 0.0417, 0.0122, 0.1731, 0.2551, 0.1249, 0.061], Max Fitness: 0.7667, Avg Fitness: 0.4343\n",
      "Generation 1 - Best Individual: [0.1116, 0.0949, 0.0418, 0.1588, 0.0602, 0.0211, 0.1825, 0.0115, 0.2206, 0.097], Max Fitness: 0.7000, Avg Fitness: 0.4563\n",
      "Generation 2 - Best Individual: [0.036, 0.0302, 0.0913, 0.1912, 0.0176, 0.201, 0.0106, 0.1964, 0.0241, 0.2016], Max Fitness: 0.7333, Avg Fitness: 0.4458\n",
      "Error in game simulation: No hay nodos válidos disponibles para iniciar el juego\n",
      "Error in game simulation: No hay nodos válidos disponibles para iniciar el juego\n",
      "Generation 3 - Best Individual: [0.072, 0.0817, 0.0857, 0.0285, 0.1279, 0.1145, 0.0888, 0.0905, 0.1902, 0.1202], Max Fitness: 0.7000, Avg Fitness: 0.4466\n",
      "Generation 4 - Best Individual: [0.036, 0.0302, 0.0913, 0.1912, 0.0176, 0.201, 0.0106, 0.1964, 0.0241, 0.2016], Max Fitness: 0.7000, Avg Fitness: 0.4446\n",
      "Generation 5 - Best Individual: [0.0876, 0.0714, 0.048, 0.1293, 0.1009, 0.0553, 0.1454, 0.0214, 0.1871, 0.1536], Max Fitness: 0.7000, Avg Fitness: 0.4385\n",
      "Generation 6 - Best Individual: [0.1297, 0.0578, 0.0421, 0.09, 0.1114, 0.0395, 0.1127, 0.0482, 0.2778, 0.0908], Max Fitness: 0.7000, Avg Fitness: 0.4475\n",
      "Error in game simulation: No hay nodos válidos disponibles para iniciar el juego\n",
      "Generation 7 - Best Individual: [0.0771, 0.0472, 0.0897, 0.184, 0.0524, 0.1246, 0.0654, 0.1273, 0.0824, 0.1499], Max Fitness: 0.7167, Avg Fitness: 0.4371\n",
      "Generation 8 - Best Individual: [0.1542, 0.063, 0.0741, 0.0333, 0.1268, 0.1032, 0.0976, 0.0746, 0.1953, 0.0779], Max Fitness: 0.7000, Avg Fitness: 0.4292\n",
      "Generation 9 - Best Individual: [0.0631, 0.0417, 0.0663, 0.1141, 0.0592, 0.1743, 0.0404, 0.1451, 0.1225, 0.1733], Max Fitness: 0.7833, Avg Fitness: 0.4369\n",
      "Generation 10 - Best Individual: [0.0876, 0.0714, 0.048, 0.1293, 0.1009, 0.0553, 0.1454, 0.0214, 0.1871, 0.1536], Max Fitness: 0.6833, Avg Fitness: 0.4405\n",
      "Generation 11 - Best Individual: [0.1049, 0.0824, 0.0727, 0.0658, 0.112, 0.0888, 0.1185, 0.067, 0.2041, 0.0838], Max Fitness: 0.7333, Avg Fitness: 0.4472\n",
      "Generation 12 - Best Individual: [0.099, 0.0835, 0.0528, 0.0963, 0.0588, 0.1035, 0.1115, 0.1094, 0.129, 0.1562], Max Fitness: 0.6667, Avg Fitness: 0.4241\n",
      "Generation 13 - Best Individual: [0.1135, 0.0611, 0.0599, 0.057, 0.1028, 0.0755, 0.0717, 0.1148, 0.2237, 0.12], Max Fitness: 0.7000, Avg Fitness: 0.4432\n",
      "Generation 14 - Best Individual: [0.1043, 0.0803, 0.0471, 0.1336, 0.0777, 0.0495, 0.1482, 0.0382, 0.2069, 0.1142], Max Fitness: 0.7833, Avg Fitness: 0.4446\n",
      "Generation 15 - Best Individual: [0.1126, 0.078, 0.0508, 0.1079, 0.0815, 0.0483, 0.1271, 0.0631, 0.2222, 0.1085], Max Fitness: 0.7167, Avg Fitness: 0.4600\n",
      "Generation 16 - Best Individual: [0.0748, 0.0741, 0.0738, 0.0644, 0.1126, 0.1072, 0.0969, 0.08, 0.181, 0.1352], Max Fitness: 0.7000, Avg Fitness: 0.4400\n",
      "Generation 17 - Best Individual: [0.0837, 0.0683, 0.0592, 0.1258, 0.0742, 0.0903, 0.1106, 0.0726, 0.1694, 0.1459], Max Fitness: 0.7000, Avg Fitness: 0.4276\n",
      "Generation 18 - Best Individual: [0.036, 0.0302, 0.0913, 0.1912, 0.0176, 0.201, 0.0106, 0.1964, 0.0241, 0.2016], Max Fitness: 0.6667, Avg Fitness: 0.4247\n",
      "Generation 19 - Best Individual: [0.0951, 0.0466, 0.0827, 0.1123, 0.0722, 0.1521, 0.0541, 0.1355, 0.1097, 0.1397], Max Fitness: 0.7333, Avg Fitness: 0.4304\n",
      "Generation 20 - Best Individual: [0.0867, 0.0779, 0.0663, 0.0839, 0.1047, 0.0855, 0.115, 0.0667, 0.195, 0.1183], Max Fitness: 0.7500, Avg Fitness: 0.4586\n",
      "Generation 21 - Best Individual: [0.0814, 0.0758, 0.0698, 0.0722, 0.1009, 0.1037, 0.0997, 0.0855, 0.1831, 0.1279], Max Fitness: 0.7167, Avg Fitness: 0.4365\n",
      "Generation 22 - Best Individual: [0.092, 0.0581, 0.0652, 0.1074, 0.0771, 0.1029, 0.0962, 0.0953, 0.1615, 0.1443], Max Fitness: 0.7500, Avg Fitness: 0.4502\n",
      "Generation 23 - Best Individual: [0.0916, 0.0801, 0.0599, 0.0839, 0.0794, 0.0953, 0.1083, 0.0916, 0.1795, 0.1304], Max Fitness: 0.8000, Avg Fitness: 0.4662\n",
      "Generation 24 - Best Individual: [0.0916, 0.0801, 0.0599, 0.0839, 0.0794, 0.0953, 0.1083, 0.0916, 0.1795, 0.1304], Max Fitness: 0.7000, Avg Fitness: 0.4341\n",
      "Generation 25 - Best Individual: [0.0691, 0.0659, 0.0683, 0.12, 0.0731, 0.1134, 0.0926, 0.1017, 0.1519, 0.144], Max Fitness: 0.7333, Avg Fitness: 0.4518\n",
      "Generation 26 - Best Individual: [0.0864, 0.0743, 0.0622, 0.0983, 0.0986, 0.0836, 0.1176, 0.0623, 0.186, 0.1307], Max Fitness: 0.8000, Avg Fitness: 0.4496\n",
      "Generation 27 - Best Individual: [0.0869, 0.0719, 0.0615, 0.1036, 0.0804, 0.0966, 0.1065, 0.0848, 0.1685, 0.1393], Max Fitness: 0.6667, Avg Fitness: 0.4580\n",
      "Generation 28 - Best Individual: [0.0893, 0.077, 0.0586, 0.0932, 0.082, 0.0874, 0.1271, 0.0795, 0.1776, 0.1283], Max Fitness: 0.6833, Avg Fitness: 0.4370\n",
      "Generation 29 - Best Individual: [0.0918, 0.0748, 0.0592, 0.0985, 0.084, 0.0889, 0.1129, 0.0771, 0.18, 0.1328], Max Fitness: 0.7167, Avg Fitness: 0.4537\n",
      "Generation 30 - Best Individual: [0.0834, 0.0706, 0.0648, 0.1062, 0.0861, 0.0965, 0.1058, 0.0816, 0.1705, 0.1345], Max Fitness: 0.7167, Avg Fitness: 0.4385\n",
      "Generation 31 - Best Individual: [0.0879, 0.0741, 0.0631, 0.0953, 0.0908, 0.0929, 0.1113, 0.0755, 0.182, 0.1271], Max Fitness: 0.6833, Avg Fitness: 0.4475\n",
      "Generation 32 - Best Individual: [0.0761, 0.0663, 0.0673, 0.1159, 0.0783, 0.1076, 0.0965, 0.0938, 0.1571, 0.1411], Max Fitness: 0.6500, Avg Fitness: 0.4511\n",
      "Generation 33 - Best Individual: [0.0882, 0.0728, 0.0618, 0.0978, 0.0831, 0.0982, 0.1033, 0.0828, 0.1725, 0.1395], Max Fitness: 0.7333, Avg Fitness: 0.4397\n",
      "Error in game simulation: No hay nodos válidos disponibles para iniciar el juego\n",
      "Generation 34 - Best Individual: [0.0863, 0.0732, 0.091, 0.0887, 0.0842, 0.0953, 0.0988, 0.0781, 0.173, 0.1314], Max Fitness: 0.6333, Avg Fitness: 0.4450\n",
      "Error in game simulation: No hay nodos válidos disponibles para iniciar el juego\n",
      "Generation 35 - Best Individual: [0.0879, 0.0741, 0.0631, 0.0953, 0.0908, 0.0929, 0.1113, 0.0755, 0.182, 0.1271], Max Fitness: 0.7500, Avg Fitness: 0.4505\n",
      "Generation 36 - Best Individual: [0.0877, 0.0756, 0.0607, 0.0906, 0.089, 0.0989, 0.1019, 0.0803, 0.1789, 0.1364], Max Fitness: 0.6833, Avg Fitness: 0.4517\n",
      "Generation 37 - Best Individual: [0.0864, 0.0741, 0.0578, 0.0977, 0.0883, 0.097, 0.1056, 0.0801, 0.1768, 0.1362], Max Fitness: 0.6833, Avg Fitness: 0.4459\n",
      "Generation 38 - Best Individual: [0.0908, 0.0774, 0.0626, 0.0806, 0.0845, 0.1064, 0.0921, 0.0861, 0.1776, 0.1419], Max Fitness: 0.7167, Avg Fitness: 0.4435\n",
      "Generation 39 - Best Individual: [0.0877, 0.0619, 0.059, 0.098, 0.1093, 0.0917, 0.1075, 0.0792, 0.1741, 0.1316], Max Fitness: 0.7667, Avg Fitness: 0.4577\n",
      "Generation 40 - Best Individual: [0.0864, 0.073, 0.0764, 0.0963, 0.0835, 0.0945, 0.1038, 0.0798, 0.173, 0.1333], Max Fitness: 0.7833, Avg Fitness: 0.4241\n",
      "Generation 41 - Best Individual: [0.086, 0.0725, 0.0602, 0.102, 0.0839, 0.0965, 0.1065, 0.0826, 0.1723, 0.1375], Max Fitness: 0.6833, Avg Fitness: 0.4393\n",
      "Generation 42 - Best Individual: [0.0887, 0.0731, 0.0614, 0.0973, 0.0822, 0.0982, 0.1034, 0.0835, 0.1726, 0.1396], Max Fitness: 0.7000, Avg Fitness: 0.4458\n",
      "Error in game simulation: No hay nodos válidos disponibles para iniciar el juego\n",
      "Generation 43 - Best Individual: [0.086, 0.0725, 0.0602, 0.102, 0.0839, 0.0965, 0.1065, 0.0826, 0.1723, 0.1375], Max Fitness: 0.7667, Avg Fitness: 0.4739\n",
      "Generation 44 - Best Individual: [0.0856, 0.072, 0.0613, 0.1036, 0.0831, 0.097, 0.1058, 0.0834, 0.1711, 0.1371], Max Fitness: 0.7000, Avg Fitness: 0.4773\n",
      "Generation 45 - Best Individual: [0.0856, 0.072, 0.0613, 0.1036, 0.0831, 0.097, 0.1058, 0.0834, 0.1711, 0.1371], Max Fitness: 0.7167, Avg Fitness: 0.4530\n",
      "Generation 46 - Best Individual: [0.0872, 0.0741, 0.061, 0.0975, 0.086, 0.0925, 0.1082, 0.0844, 0.1766, 0.1325], Max Fitness: 0.7167, Avg Fitness: 0.3994\n",
      "Generation 47 - Best Individual: [0.0868, 0.0696, 0.0592, 0.1006, 0.0892, 0.0936, 0.1028, 0.0925, 0.1721, 0.1336], Max Fitness: 0.7500, Avg Fitness: 0.4498\n",
      "Generation 48 - Best Individual: [0.0872, 0.0867, 0.0605, 0.0958, 0.0905, 0.094, 0.0955, 0.0819, 0.1743, 0.1336], Max Fitness: 0.7000, Avg Fitness: 0.4458\n",
      "Generation 49 - Best Individual: [0.0857, 0.0715, 0.0657, 0.1004, 0.0818, 0.0926, 0.1023, 0.0985, 0.1699, 0.1316], Max Fitness: 0.7333, Avg Fitness: 0.4582\n"
     ]
    }
   ],
   "source": [
    "population_size3 = 200\n",
    " \n",
    "ga3 = CatanGA(\n",
    "    population_size=population_size3, \n",
    "    generations=generations, \n",
    "    mutation_prob=mutation_prob, \n",
    "    crossover_prob=crossover_prob,\n",
    "    selection_method=selection_method,\n",
    "    tournament_size=tournament_size,\n",
    "    mutation_sigma=mutation_sigma,\n",
    "    mutation_indpb=mutation_indpb,\n",
    "    num_games_per_individual=num_games_per_individual\n",
    ")\n",
    "\n",
    "best_distribution3 = ga3.run()"
   ]
  },
  {
   "cell_type": "code",
   "execution_count": 10,
   "metadata": {},
   "outputs": [
    {
     "name": "stdout",
     "output_type": "stream",
     "text": [
      "Best probability distribution and agent: ([0.0916, 0.0801, 0.0599, 0.0839, 0.0794, 0.0953, 0.1083, 0.0916, 0.1795, 0.1304], <class 'Agents.SigmaAgent.SigmaAgent'>)\n"
     ]
    }
   ],
   "source": [
    "print(\"Best probability distribution and agent:\", best_distribution3)"
   ]
  },
  {
   "cell_type": "code",
   "execution_count": 11,
   "metadata": {},
   "outputs": [],
   "source": [
    "df3 = pd.DataFrame(ga3.logbook)\n",
    "df3.to_csv(\"./res_trials/trial_population3.csv\", index = False)"
   ]
  }
 ],
 "metadata": {
  "kernelspec": {
   "display_name": "Python 3",
   "language": "python",
   "name": "python3"
  },
  "language_info": {
   "codemirror_mode": {
    "name": "ipython",
    "version": 3
   },
   "file_extension": ".py",
   "mimetype": "text/x-python",
   "name": "python",
   "nbconvert_exporter": "python",
   "pygments_lexer": "ipython3",
   "version": "3.12.5"
  }
 },
 "nbformat": 4,
 "nbformat_minor": 2
}
