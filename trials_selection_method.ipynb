{
 "cells": [
  {
   "cell_type": "markdown",
   "metadata": {},
   "source": [
    "# **Método de Selección**"
   ]
  },
  {
   "cell_type": "code",
   "execution_count": 1,
   "metadata": {},
   "outputs": [],
   "source": [
    "from algorithm import CatanGA\n",
    "import pandas as pd"
   ]
  },
  {
   "cell_type": "code",
   "execution_count": 2,
   "metadata": {},
   "outputs": [],
   "source": [
    "population_size = 100\n",
    "generations = 50\n",
    "mutation_prob = 0.1\n",
    "crossover_prob = 0.5\n",
    "tournament_size = 4\n",
    "mutation_sigma = 0.05\n",
    "mutation_indpb = 0.1\n",
    "num_games_per_individual = 15"
   ]
  },
  {
   "cell_type": "markdown",
   "metadata": {},
   "source": [
    "## **Torneo**"
   ]
  },
  {
   "cell_type": "code",
   "execution_count": 3,
   "metadata": {},
   "outputs": [
    {
     "name": "stdout",
     "output_type": "stream",
     "text": [
      "Generation 0 - Best Individual: [0.0329, 0.052, 0.0302, 0.06, 0.1209, 0.0118, 0.2652, 0.0059, 0.0344, 0.3867], Max Fitness: 0.6500, Avg Fitness: 0.4503\n",
      "Generation 1 - Best Individual: [0.0323, 0.0746, 0.1718, 0.0231, 0.1589, 0.1903, 0.1239, 0.0398, 0.0677, 0.1176], Max Fitness: 0.7333, Avg Fitness: 0.4357\n",
      "Generation 2 - Best Individual: [0.0779, 0.1422, 0.0107, 0.1429, 0.0307, 0.137, 0.0881, 0.0586, 0.2122, 0.0997], Max Fitness: 0.7333, Avg Fitness: 0.4438\n",
      "Generation 3 - Best Individual: [0.0831, 0.0333, 0.1351, 0.0063, 0.0128, 0.3253, 0.038, 0.0815, 0.2213, 0.0633], Max Fitness: 0.7333, Avg Fitness: 0.4517\n",
      "Generation 4 - Best Individual: [0.0885, 0.1278, 0.0604, 0.1943, 0.1127, 0.1222, 0.0238, 0.1208, 0.0651, 0.0844], Max Fitness: 0.6667, Avg Fitness: 0.4322\n",
      "Generation 5 - Best Individual: [0.0954, 0.1414, 0.058, 0.1413, 0.1128, 0.079, 0.0625, 0.112, 0.1265, 0.0711], Max Fitness: 0.7333, Avg Fitness: 0.4400\n",
      "Generation 6 - Best Individual: [0.2644, 0.0039, 0.0117, 0.0194, 0.2587, 0.0077, 0.0034, 0.3969, 0.0303, 0.0036], Max Fitness: 0.7333, Avg Fitness: 0.4112\n",
      "Generation 7 - Best Individual: [0.0831, 0.0333, 0.1351, 0.0063, 0.0128, 0.3253, 0.038, 0.0815, 0.2213, 0.0633], Max Fitness: 0.7333, Avg Fitness: 0.4397\n",
      "Generation 8 - Best Individual: [0.0982, 0.0777, 0.1155, 0.0032, 0.0473, 0.2537, 0.0616, 0.0675, 0.2018, 0.0735], Max Fitness: 0.6833, Avg Fitness: 0.4252\n",
      "Generation 9 - Best Individual: [0.0869, 0.1671, 0.0768, 0.1449, 0.1182, 0.0827, 0.0566, 0.1233, 0.0763, 0.0672], Max Fitness: 0.6500, Avg Fitness: 0.4480\n",
      "Generation 10 - Best Individual: [0.0851, 0.1767, 0.0795, 0.1225, 0.1982, 0.0607, 0.0638, 0.0776, 0.0701, 0.0658], Max Fitness: 0.6833, Avg Fitness: 0.4620\n",
      "Generation 11 - Best Individual: [0.1087, 0.1854, 0.0459, 0.1552, 0.0542, 0.0424, 0.0883, 0.119, 0.0989, 0.102], Max Fitness: 0.6167, Avg Fitness: 0.4517\n",
      "Generation 12 - Best Individual: [0.1065, 0.1841, 0.0499, 0.1537, 0.0698, 0.0425, 0.0846, 0.1179, 0.0939, 0.0971], Max Fitness: 0.6833, Avg Fitness: 0.4433\n",
      "Generation 13 - Best Individual: [0.0985, 0.1108, 0.0847, 0.0705, 0.1168, 0.1528, 0.07, 0.0934, 0.1348, 0.0677], Max Fitness: 0.8167, Avg Fitness: 0.4793\n",
      "Generation 14 - Best Individual: [0.085, 0.1373, 0.097, 0.0892, 0.1415, 0.1225, 0.0741, 0.0716, 0.1134, 0.0684], Max Fitness: 0.7000, Avg Fitness: 0.4317\n",
      "Generation 15 - Best Individual: [0.1008, 0.146, 0.0665, 0.11, 0.0789, 0.1059, 0.0832, 0.0998, 0.1228, 0.0861], Max Fitness: 0.6667, Avg Fitness: 0.4350\n",
      "Generation 16 - Best Individual: [0.0943, 0.1677, 0.0824, 0.1239, 0.142, 0.0654, 0.0691, 0.094, 0.0855, 0.0757], Max Fitness: 0.7000, Avg Fitness: 0.4520\n",
      "Generation 17 - Best Individual: [0.1072, 0.1729, 0.0584, 0.1328, 0.1109, 0.0515, 0.08, 0.1048, 0.0932, 0.0883], Max Fitness: 0.7000, Avg Fitness: 0.4322\n",
      "Generation 18 - Best Individual: [0.1003, 0.1636, 0.0641, 0.1145, 0.1076, 0.0811, 0.0758, 0.1046, 0.1075, 0.0809], Max Fitness: 0.6167, Avg Fitness: 0.4262\n",
      "Generation 19 - Best Individual: [0.0958, 0.1785, 0.0752, 0.1372, 0.1235, 0.0508, 0.0752, 0.0973, 0.0835, 0.083], Max Fitness: 0.7000, Avg Fitness: 0.4053\n",
      "Error in game simulation: No hay nodos válidos disponibles para iniciar el juego\n",
      "Generation 20 - Best Individual: [0.0893, 0.1751, 0.0898, 0.1282, 0.1582, 0.0549, 0.0687, 0.0864, 0.0759, 0.0735], Max Fitness: 0.7000, Avg Fitness: 0.4280\n",
      "Generation 21 - Best Individual: [0.0925, 0.1767, 0.0825, 0.1327, 0.1409, 0.0528, 0.072, 0.0919, 0.0797, 0.0783], Max Fitness: 0.6000, Avg Fitness: 0.4343\n",
      "Generation 22 - Best Individual: [0.0965, 0.1577, 0.0813, 0.1138, 0.1358, 0.0835, 0.0657, 0.1002, 0.0925, 0.073], Max Fitness: 0.6500, Avg Fitness: 0.4412\n",
      "Generation 23 - Best Individual: [0.1008, 0.1788, 0.0536, 0.1328, 0.0909, 0.0711, 0.0788, 0.1089, 0.0966, 0.0877], Max Fitness: 0.7000, Avg Fitness: 0.4722\n",
      "Generation 24 - Best Individual: [0.0922, 0.1661, 0.0806, 0.1333, 0.1315, 0.0673, 0.0731, 0.0898, 0.0887, 0.0774], Max Fitness: 0.7000, Avg Fitness: 0.4557\n",
      "Generation 25 - Best Individual: [0.0891, 0.17, 0.0794, 0.1278, 0.1356, 0.0957, 0.0047, 0.0885, 0.1338, 0.0754], Max Fitness: 0.8000, Avg Fitness: 0.4432\n",
      "Error in game simulation: No hay nodos válidos disponibles para iniciar el juego\n",
      "Generation 26 - Best Individual: [0.0925, 0.1767, 0.0825, 0.1327, 0.1409, 0.0528, 0.072, 0.0919, 0.0797, 0.0783], Max Fitness: 0.7500, Avg Fitness: 0.4388\n",
      "Generation 27 - Best Individual: [0.0927, 0.1583, 0.0821, 0.1366, 0.1369, 0.0725, 0.0679, 0.0917, 0.0881, 0.0732], Max Fitness: 0.7500, Avg Fitness: 0.4290\n",
      "Generation 28 - Best Individual: [0.0938, 0.1471, 0.0755, 0.1381, 0.1138, 0.0896, 0.0729, 0.0907, 0.1026, 0.0759], Max Fitness: 0.6500, Avg Fitness: 0.4448\n",
      "Generation 29 - Best Individual: [0.0947, 0.1616, 0.073, 0.1347, 0.1209, 0.0756, 0.0731, 0.0943, 0.0939, 0.0782], Max Fitness: 0.6500, Avg Fitness: 0.4397\n",
      "Generation 30 - Best Individual: [0.0948, 0.1361, 0.0689, 0.1397, 0.0907, 0.1067, 0.0779, 0.0896, 0.1171, 0.0785], Max Fitness: 0.6667, Avg Fitness: 0.4230\n",
      "Generation 31 - Best Individual: [0.096, 0.172, 0.0838, 0.1394, 0.1371, 0.0685, 0.068, 0.0648, 0.0907, 0.0797], Max Fitness: 0.7167, Avg Fitness: 0.4388\n",
      "Error in game simulation: No hay nodos válidos disponibles para iniciar el juego\n",
      "Generation 32 - Best Individual: [0.0945, 0.1672, 0.0818, 0.1375, 0.1346, 0.0691, 0.0695, 0.0781, 0.0898, 0.0779], Max Fitness: 0.6333, Avg Fitness: 0.3978\n",
      "Generation 33 - Best Individual: [0.0947, 0.1616, 0.073, 0.1347, 0.1209, 0.0756, 0.0731, 0.0943, 0.0939, 0.0782], Max Fitness: 0.6167, Avg Fitness: 0.4125\n",
      "Generation 34 - Best Individual: [0.0943, 0.167, 0.0826, 0.1372, 0.1356, 0.0692, 0.0693, 0.0777, 0.0896, 0.0775], Max Fitness: 0.7667, Avg Fitness: 0.4477\n",
      "Generation 35 - Best Individual: [0.096, 0.1448, 0.0718, 0.1407, 0.1031, 0.0854, 0.0764, 0.0924, 0.1108, 0.0786], Max Fitness: 0.6833, Avg Fitness: 0.4397\n",
      "Generation 36 - Best Individual: [0.0925, 0.1539, 0.0756, 0.1464, 0.1196, 0.0791, 0.0717, 0.0904, 0.0952, 0.0756], Max Fitness: 0.8000, Avg Fitness: 0.4472\n",
      "Error in game simulation: No hay nodos válidos disponibles para iniciar el juego\n",
      "Generation 37 - Best Individual: [0.0943, 0.167, 0.0826, 0.1372, 0.1356, 0.0692, 0.0693, 0.0777, 0.0896, 0.0775], Max Fitness: 0.7500, Avg Fitness: 0.4048\n",
      "Generation 38 - Best Individual: [0.0943, 0.167, 0.0826, 0.1372, 0.1356, 0.0692, 0.0693, 0.0777, 0.0896, 0.0775], Max Fitness: 0.6833, Avg Fitness: 0.4518\n",
      "Generation 39 - Best Individual: [0.0945, 0.1519, 0.0723, 0.138, 0.1111, 0.0865, 0.074, 0.0925, 0.1016, 0.0776], Max Fitness: 0.6667, Avg Fitness: 0.4373\n",
      "Generation 40 - Best Individual: [0.0945, 0.1578, 0.0748, 0.1379, 0.1224, 0.0796, 0.0723, 0.0867, 0.0964, 0.0776], Max Fitness: 0.7000, Avg Fitness: 0.4390\n",
      "Generation 41 - Best Individual: [0.0975, 0.1633, 0.0783, 0.1465, 0.1268, 0.0816, 0.075, 0.0926, 0.099, 0.0394], Max Fitness: 0.6667, Avg Fitness: 0.4348\n",
      "Generation 42 - Best Individual: [0.0971, 0.1542, 0.0786, 0.1463, 0.1281, 0.0785, 0.075, 0.0656, 0.0968, 0.0798], Max Fitness: 0.6667, Avg Fitness: 0.4407\n",
      "Generation 43 - Best Individual: [0.0933, 0.1607, 0.0794, 0.1445, 0.1281, 0.0701, 0.0705, 0.0852, 0.0917, 0.0765], Max Fitness: 0.6167, Avg Fitness: 0.4263\n",
      "Generation 44 - Best Individual: [0.1034, 0.1728, 0.0831, 0.1505, 0.1336, 0.0871, 0.0789, 0.0, 0.1057, 0.0849], Max Fitness: 0.7167, Avg Fitness: 0.4552\n",
      "Generation 45 - Best Individual: [0.0947, 0.1494, 0.0716, 0.1374, 0.1082, 0.09, 0.0746, 0.0922, 0.1041, 0.0778], Max Fitness: 0.6667, Avg Fitness: 0.4238\n",
      "Generation 46 - Best Individual: [0.0975, 0.1633, 0.0783, 0.1465, 0.1268, 0.0816, 0.075, 0.0926, 0.099, 0.0394], Max Fitness: 0.6667, Avg Fitness: 0.4108\n",
      "Generation 47 - Best Individual: [0.098, 0.182, 0.0788, 0.1426, 0.1266, 0.0826, 0.0748, 0.0, 0.1002, 0.1144], Max Fitness: 0.6833, Avg Fitness: 0.4430\n",
      "Generation 48 - Best Individual: [0.0948, 0.1587, 0.074, 0.1362, 0.1197, 0.0788, 0.0728, 0.0908, 0.0962, 0.078], Max Fitness: 0.6833, Avg Fitness: 0.4475\n",
      "Generation 49 - Best Individual: [0.095, 0.156, 0.0747, 0.1411, 0.1181, 0.0831, 0.0736, 0.0913, 0.0993, 0.0678], Max Fitness: 0.6000, Avg Fitness: 0.4438\n"
     ]
    }
   ],
   "source": [
    "selection_method1 = \"tournament\"  # Options: \"tournament\", \"roulette\", \"best\"\n",
    " \n",
    "\n",
    "ga1 = CatanGA(\n",
    "    population_size=population_size, \n",
    "    generations=generations, \n",
    "    mutation_prob=mutation_prob, \n",
    "    crossover_prob=crossover_prob,\n",
    "    selection_method=selection_method1,\n",
    "    tournament_size=tournament_size,\n",
    "    mutation_sigma=mutation_sigma,\n",
    "    mutation_indpb=mutation_indpb,\n",
    "    num_games_per_individual=num_games_per_individual\n",
    ")\n",
    "\n",
    "best_distribution1 = ga1.run()"
   ]
  },
  {
   "cell_type": "code",
   "execution_count": 4,
   "metadata": {},
   "outputs": [
    {
     "name": "stdout",
     "output_type": "stream",
     "text": [
      "Best probability distribution and agent: ([0.0985, 0.1108, 0.0847, 0.0705, 0.1168, 0.1528, 0.07, 0.0934, 0.1348, 0.0677], <class 'Agents.CrabisaAgent.CrabisaAgent'>)\n"
     ]
    }
   ],
   "source": [
    "print(\"Best probability distribution and agent:\", best_distribution1)"
   ]
  },
  {
   "cell_type": "code",
   "execution_count": 5,
   "metadata": {},
   "outputs": [],
   "source": [
    "df1 = pd.DataFrame(ga1.logbook)\n",
    "df1.to_csv(\"./res_trials/trial_selection_method1.csv\", index = False)"
   ]
  },
  {
   "cell_type": "markdown",
   "metadata": {},
   "source": [
    "## **Ruleta**"
   ]
  },
  {
   "cell_type": "code",
   "execution_count": 6,
   "metadata": {},
   "outputs": [
    {
     "name": "stderr",
     "output_type": "stream",
     "text": [
      "c:\\Users\\valel\\AppData\\Local\\Programs\\Python\\Python312\\Lib\\site-packages\\deap\\creator.py:185: RuntimeWarning: A class named 'FitnessMax' has already been created and it will be overwritten. Consider deleting previous creation of that class or rename it.\n",
      "  warnings.warn(\"A class named '{0}' has already been created and it \"\n",
      "c:\\Users\\valel\\AppData\\Local\\Programs\\Python\\Python312\\Lib\\site-packages\\deap\\creator.py:185: RuntimeWarning: A class named 'Individual' has already been created and it will be overwritten. Consider deleting previous creation of that class or rename it.\n",
      "  warnings.warn(\"A class named '{0}' has already been created and it \"\n"
     ]
    },
    {
     "name": "stdout",
     "output_type": "stream",
     "text": [
      "Generation 0 - Best Individual: [0.1938, 0.015, 0.1264, 0.0805, 0.3885, 0.0226, 0.0294, 0.0165, 0.1114, 0.0159], Max Fitness: 0.6833, Avg Fitness: 0.4463\n",
      "Generation 1 - Best Individual: [0.0993, 0.0663, 0.0003, 0.106, 0.0384, 0.1939, 0.2033, 0.1112, 0.0955, 0.0858], Max Fitness: 0.6667, Avg Fitness: 0.4393\n",
      "Generation 2 - Best Individual: [0.3393, 0.1822, 0.049, 0.0272, 0.0126, 0.1095, 0.0053, 0.0711, 0.1239, 0.0799], Max Fitness: 0.7333, Avg Fitness: 0.4388\n",
      "Generation 3 - Best Individual: [0.0158, 0.0865, 0.0014, 0.1864, 0.0016, 0.0165, 0.0914, 0.2421, 0.1405, 0.2178], Max Fitness: 0.7167, Avg Fitness: 0.4220\n",
      "Generation 4 - Best Individual: [0.0345, 0.1386, 0.1255, 0.0824, 0.086, 0.1433, 0.0815, 0.051, 0.1163, 0.1409], Max Fitness: 0.6333, Avg Fitness: 0.4407\n",
      "Error in game simulation: No hay nodos válidos disponibles para iniciar el juego\n",
      "Generation 5 - Best Individual: [0.101, 0.031, 0.0462, 0.1858, 0.0537, 0.1355, 0.0524, 0.1009, 0.2135, 0.08], Max Fitness: 0.7167, Avg Fitness: 0.4358\n",
      "Generation 6 - Best Individual: [0.1169, 0.0199, 0.0708, 0.1174, 0.0576, 0.1664, 0.0709, 0.128, 0.2145, 0.0376], Max Fitness: 0.6333, Avg Fitness: 0.4508\n",
      "Generation 7 - Best Individual: [0.0668, 0.0481, 0.2013, 0.1359, 0.1258, 0.057, 0.0702, 0.0655, 0.0653, 0.1641], Max Fitness: 0.6667, Avg Fitness: 0.4480\n",
      "Generation 8 - Best Individual: [0.1436, 0.0503, 0.098, 0.0925, 0.0777, 0.1264, 0.067, 0.094, 0.1819, 0.0686], Max Fitness: 0.6333, Avg Fitness: 0.4520\n",
      "Generation 9 - Best Individual: [0.101, 0.031, 0.0462, 0.1858, 0.0537, 0.1355, 0.0524, 0.1009, 0.2135, 0.08], Max Fitness: 0.7500, Avg Fitness: 0.4387\n",
      "Generation 10 - Best Individual: [0.0607, 0.089, 0.0619, 0.0948, 0.046, 0.09, 0.0545, 0.1628, 0.1581, 0.1822], Max Fitness: 0.6333, Avg Fitness: 0.4395\n",
      "Generation 11 - Best Individual: [0.0826, 0.0544, 0.2084, 0.0635, 0.1443, 0.0731, 0.0437, 0.1153, 0.1051, 0.1096], Max Fitness: 0.7333, Avg Fitness: 0.4243\n",
      "Generation 12 - Best Individual: [0.1021, 0.0391, 0.0557, 0.2146, 0.0501, 0.1029, 0.0733, 0.1147, 0.1151, 0.1324], Max Fitness: 0.6833, Avg Fitness: 0.4372\n",
      "Generation 13 - Best Individual: [0.1004, 0.0497, 0.1255, 0.0728, 0.1178, 0.097, 0.0509, 0.1649, 0.1177, 0.1033], Max Fitness: 0.6833, Avg Fitness: 0.4370\n",
      "Generation 14 - Best Individual: [0.1303, 0.04, 0.0545, 0.0969, 0.0763, 0.1285, 0.0698, 0.1565, 0.1725, 0.0747], Max Fitness: 0.7167, Avg Fitness: 0.4297\n",
      "Generation 15 - Best Individual: [0.095, 0.0566, 0.0701, 0.1801, 0.0553, 0.0893, 0.0629, 0.1384, 0.1097, 0.1426], Max Fitness: 0.6833, Avg Fitness: 0.4273\n",
      "Error in game simulation: No hay nodos válidos disponibles para iniciar el juego\n",
      "Generation 16 - Best Individual: [0.1051, 0.0444, 0.0878, 0.185, 0.07, 0.0987, 0.0583, 0.1182, 0.1029, 0.1296], Max Fitness: 0.7000, Avg Fitness: 0.4435\n",
      "Generation 17 - Best Individual: [0.0968, 0.0575, 0.0712, 0.1859, 0.0566, 0.0938, 0.0549, 0.1346, 0.1085, 0.1402], Max Fitness: 0.6333, Avg Fitness: 0.4282\n",
      "Generation 18 - Best Individual: [0.0895, 0.0624, 0.0766, 0.1845, 0.0592, 0.0897, 0.049, 0.1401, 0.1145, 0.1345], Max Fitness: 0.6667, Avg Fitness: 0.4492\n",
      "Generation 19 - Best Individual: [0.0865, 0.0298, 0.0881, 0.1125, 0.0964, 0.1968, 0.0448, 0.1315, 0.101, 0.1126], Max Fitness: 0.6500, Avg Fitness: 0.4285\n",
      "Generation 20 - Best Individual: [0.0873, 0.0658, 0.0867, 0.1615, 0.0673, 0.0871, 0.047, 0.1462, 0.1156, 0.1355], Max Fitness: 0.7833, Avg Fitness: 0.4253\n",
      "Generation 21 - Best Individual: [0.0965, 0.0582, 0.0778, 0.1581, 0.0677, 0.0942, 0.0538, 0.1476, 0.1201, 0.126], Max Fitness: 0.7167, Avg Fitness: 0.4500\n",
      "Generation 22 - Best Individual: [0.13, 0.0616, 0.0964, 0.1513, 0.063, 0.0816, 0.044, 0.1369, 0.1083, 0.1269], Max Fitness: 0.6833, Avg Fitness: 0.4272\n",
      "Generation 23 - Best Individual: [0.1182, 0.045, 0.0427, 0.0821, 0.0912, 0.121, 0.0581, 0.2145, 0.1302, 0.097], Max Fitness: 0.6500, Avg Fitness: 0.4513\n",
      "Generation 24 - Best Individual: [0.0983, 0.0588, 0.0696, 0.1807, 0.0511, 0.0896, 0.0624, 0.1346, 0.1134, 0.1415], Max Fitness: 0.7833, Avg Fitness: 0.4512\n",
      "Generation 25 - Best Individual: [0.0949, 0.0577, 0.0677, 0.1528, 0.0665, 0.0945, 0.0561, 0.1604, 0.1166, 0.1328], Max Fitness: 0.6333, Avg Fitness: 0.4368\n",
      "Error in game simulation: No hay nodos válidos disponibles para iniciar el juego\n",
      "Generation 26 - Best Individual: [0.1013, 0.0483, 0.08, 0.1402, 0.0783, 0.1009, 0.0528, 0.1546, 0.1191, 0.1245], Max Fitness: 0.6333, Avg Fitness: 0.4370\n",
      "Generation 27 - Best Individual: [0.0963, 0.0597, 0.0781, 0.1499, 0.069, 0.0932, 0.0542, 0.1524, 0.1147, 0.1325], Max Fitness: 0.7833, Avg Fitness: 0.4355\n",
      "Generation 28 - Best Individual: [0.1159, 0.0633, 0.0918, 0.1578, 0.069, 0.0924, 0.0073, 0.1499, 0.1174, 0.1352], Max Fitness: 0.7167, Avg Fitness: 0.4577\n",
      "Error in game simulation: No hay nodos válidos disponibles para iniciar el juego\n",
      "Generation 29 - Best Individual: [0.1066, 0.0529, 0.083, 0.1482, 0.0639, 0.097, 0.0547, 0.1479, 0.1178, 0.128], Max Fitness: 0.6500, Avg Fitness: 0.4402\n",
      "Generation 30 - Best Individual: [0.1118, 0.0597, 0.0872, 0.1565, 0.0479, 0.0916, 0.057, 0.1394, 0.1144, 0.1345], Max Fitness: 0.7000, Avg Fitness: 0.4420\n",
      "Generation 31 - Best Individual: [0.1115, 0.056, 0.0849, 0.154, 0.052, 0.0943, 0.0566, 0.1427, 0.1164, 0.1316], Max Fitness: 0.6833, Avg Fitness: 0.4380\n",
      "Generation 32 - Best Individual: [0.1072, 0.0558, 0.0852, 0.1524, 0.0592, 0.095, 0.0546, 0.1449, 0.1181, 0.1276], Max Fitness: 0.6500, Avg Fitness: 0.4377\n",
      "Generation 33 - Best Individual: [0.1076, 0.0535, 0.0847, 0.1475, 0.0645, 0.096, 0.0513, 0.1501, 0.1169, 0.1279], Max Fitness: 0.7167, Avg Fitness: 0.4248\n",
      "Generation 34 - Best Individual: [0.1095, 0.0587, 0.0874, 0.1529, 0.0561, 0.0922, 0.0549, 0.1417, 0.1142, 0.1324], Max Fitness: 0.7167, Avg Fitness: 0.4423\n",
      "Generation 35 - Best Individual: [0.0984, 0.0508, 0.1673, 0.137, 0.0546, 0.0861, 0.0499, 0.1318, 0.1056, 0.1185], Max Fitness: 0.7167, Avg Fitness: 0.4487\n",
      "Generation 36 - Best Individual: [0.1091, 0.0566, 0.0862, 0.1526, 0.0551, 0.0953, 0.046, 0.1465, 0.1176, 0.135], Max Fitness: 0.7333, Avg Fitness: 0.4207\n",
      "Generation 37 - Best Individual: [0.1132, 0.0551, 0.1001, 0.1467, 0.0568, 0.0927, 0.0302, 0.1635, 0.1138, 0.1279], Max Fitness: 0.7667, Avg Fitness: 0.4430\n",
      "Generation 38 - Best Individual: [0.1073, 0.0563, 0.0852, 0.1482, 0.0633, 0.0927, 0.0507, 0.158, 0.1133, 0.125], Max Fitness: 0.7000, Avg Fitness: 0.4620\n",
      "Generation 39 - Best Individual: [0.1029, 0.0837, 0.0814, 0.1457, 0.072, 0.0901, 0.0469, 0.1464, 0.1101, 0.1208], Max Fitness: 0.7333, Avg Fitness: 0.4500\n",
      "Generation 40 - Best Individual: [0.1035, 0.0609, 0.0921, 0.1459, 0.0576, 0.1053, 0.0441, 0.1579, 0.108, 0.1247], Max Fitness: 0.6833, Avg Fitness: 0.4332\n",
      "Generation 41 - Best Individual: [0.1064, 0.0554, 0.0847, 0.1493, 0.0665, 0.0951, 0.0553, 0.1468, 0.1165, 0.124], Max Fitness: 0.7167, Avg Fitness: 0.4497\n",
      "Generation 42 - Best Individual: [0.1054, 0.0537, 0.1062, 0.1417, 0.0496, 0.1218, 0.0408, 0.1433, 0.1072, 0.1303], Max Fitness: 0.7167, Avg Fitness: 0.4338\n",
      "Generation 43 - Best Individual: [0.1054, 0.0537, 0.1062, 0.1417, 0.0496, 0.1218, 0.0408, 0.1433, 0.1072, 0.1303], Max Fitness: 0.6667, Avg Fitness: 0.4097\n",
      "Generation 44 - Best Individual: [0.101, 0.0535, 0.0925, 0.1401, 0.0576, 0.1058, 0.0592, 0.1592, 0.1078, 0.1233], Max Fitness: 0.7000, Avg Fitness: 0.4338\n",
      "Generation 45 - Best Individual: [0.1018, 0.0539, 0.0938, 0.1381, 0.0507, 0.1061, 0.0757, 0.1491, 0.1054, 0.1254], Max Fitness: 0.6833, Avg Fitness: 0.4232\n",
      "Generation 46 - Best Individual: [0.107, 0.0544, 0.0847, 0.1459, 0.0516, 0.0914, 0.0378, 0.1775, 0.1126, 0.1371], Max Fitness: 0.7000, Avg Fitness: 0.4568\n",
      "Generation 47 - Best Individual: [0.107, 0.0544, 0.0847, 0.1459, 0.0516, 0.0914, 0.0378, 0.1775, 0.1126, 0.1371], Max Fitness: 0.6833, Avg Fitness: 0.4288\n",
      "Generation 48 - Best Individual: [0.1041, 0.0561, 0.0928, 0.1473, 0.059, 0.1067, 0.0464, 0.1527, 0.1095, 0.1254], Max Fitness: 0.7167, Avg Fitness: 0.4325\n",
      "Generation 49 - Best Individual: [0.1056, 0.0557, 0.0877, 0.1449, 0.0587, 0.0961, 0.0427, 0.1682, 0.1114, 0.129], Max Fitness: 0.7167, Avg Fitness: 0.4268\n"
     ]
    }
   ],
   "source": [
    "selection_method2 = \"roulette\"  # Options: \"tournament\", \"roulette\", \"best\"\n",
    " \n",
    "\n",
    "ga2 = CatanGA(\n",
    "    population_size=population_size, \n",
    "    generations=generations, \n",
    "    mutation_prob=mutation_prob, \n",
    "    crossover_prob=crossover_prob,\n",
    "    selection_method=selection_method2,\n",
    "    tournament_size=tournament_size,\n",
    "    mutation_sigma=mutation_sigma,\n",
    "    mutation_indpb=mutation_indpb,\n",
    "    num_games_per_individual=num_games_per_individual\n",
    ")\n",
    "\n",
    "best_distribution2 = ga2.run()"
   ]
  },
  {
   "cell_type": "code",
   "execution_count": 7,
   "metadata": {},
   "outputs": [
    {
     "name": "stdout",
     "output_type": "stream",
     "text": [
      "Best probability distribution and agent: ([0.0873, 0.0658, 0.0867, 0.1615, 0.0673, 0.0871, 0.047, 0.1462, 0.1156, 0.1355], <class 'Agents.AlexPelochoJaimeAgent.AlexPelochoJaimeAgent'>)\n"
     ]
    }
   ],
   "source": [
    "print(\"Best probability distribution and agent:\", best_distribution2)"
   ]
  },
  {
   "cell_type": "code",
   "execution_count": 8,
   "metadata": {},
   "outputs": [],
   "source": [
    "df2 = pd.DataFrame(ga2.logbook)\n",
    "df2.to_csv(\"./res_trials/trial_selection_method2.csv\", index = False)"
   ]
  },
  {
   "cell_type": "markdown",
   "metadata": {},
   "source": [
    "## **Elitista**"
   ]
  },
  {
   "cell_type": "code",
   "execution_count": 9,
   "metadata": {},
   "outputs": [
    {
     "name": "stdout",
     "output_type": "stream",
     "text": [
      "Generation 0 - Best Individual: [0.0096, 0.0419, 0.118, 0.0312, 0.0949, 0.2294, 0.2964, 0.0235, 0.0549, 0.1002], Max Fitness: 0.7167, Avg Fitness: 0.4438\n",
      "Generation 1 - Best Individual: [0.1258, 0.0622, 0.0389, 0.146, 0.2057, 0.1694, 0.0492, 0.0181, 0.034, 0.1507], Max Fitness: 0.7000, Avg Fitness: 0.4432\n",
      "Generation 2 - Best Individual: [0.121, 0.0484, 0.2446, 0.1183, 0.0998, 0.1762, 0.0026, 0.0226, 0.0478, 0.1187], Max Fitness: 0.7167, Avg Fitness: 0.4473\n",
      "Generation 3 - Best Individual: [0.0547, 0.1449, 0.1017, 0.0309, 0.0832, 0.1745, 0.1939, 0.0577, 0.0614, 0.0971], Max Fitness: 0.6667, Avg Fitness: 0.4460\n",
      "Generation 4 - Best Individual: [0.0688, 0.2428, 0.048, 0.0681, 0.0338, 0.2162, 0.1126, 0.0359, 0.1404, 0.0334], Max Fitness: 0.7000, Avg Fitness: 0.4340\n",
      "Generation 5 - Best Individual: [0.0156, 0.1862, 0.0722, 0.0562, 0.0056, 0.0731, 0.149, 0.2829, 0.119, 0.0402], Max Fitness: 0.7167, Avg Fitness: 0.4337\n",
      "Generation 6 - Best Individual: [0.0005, 0.1997, 0.033, 0.026, 0.0084, 0.1979, 0.2391, 0.1404, 0.1486, 0.0064], Max Fitness: 0.6833, Avg Fitness: 0.4612\n",
      "Generation 7 - Best Individual: [0.0669, 0.1156, 0.0367, 0.1167, 0.1183, 0.1636, 0.1726, 0.0619, 0.0304, 0.1173], Max Fitness: 0.7000, Avg Fitness: 0.4468\n",
      "Generation 8 - Best Individual: [0.0382, 0.2128, 0.0393, 0.0755, 0.0282, 0.1454, 0.1843, 0.1264, 0.1234, 0.0265], Max Fitness: 0.7167, Avg Fitness: 0.4355\n",
      "Generation 9 - Best Individual: [0.0587, 0.1079, 0.0702, 0.1021, 0.12, 0.1391, 0.1592, 0.0623, 0.0691, 0.1114], Max Fitness: 0.6500, Avg Fitness: 0.4432\n",
      "Generation 10 - Best Individual: [0.0589, 0.0316, 0.0578, 0.031, 0.0932, 0.114, 0.1545, 0.3027, 0.0479, 0.1084], Max Fitness: 0.6667, Avg Fitness: 0.4505\n",
      "Generation 11 - Best Individual: [0.0493, 0.0596, 0.0591, 0.0935, 0.0649, 0.1232, 0.1953, 0.1082, 0.0718, 0.1751], Max Fitness: 0.7000, Avg Fitness: 0.4430\n",
      "Generation 12 - Best Individual: [0.0721, 0.0914, 0.0689, 0.158, 0.1251, 0.1329, 0.0846, 0.1392, 0.0319, 0.0959], Max Fitness: 0.7667, Avg Fitness: 0.4735\n",
      "Generation 13 - Best Individual: [0.0734, 0.1025, 0.0582, 0.1007, 0.1022, 0.1277, 0.1479, 0.1336, 0.0554, 0.0984], Max Fitness: 0.7000, Avg Fitness: 0.4447\n",
      "Error in game simulation: No hay nodos válidos disponibles para iniciar el juego\n",
      "Generation 14 - Best Individual: [0.0278, 0.1084, 0.0495, 0.1669, 0.1701, 0.1934, 0.0124, 0.0872, 0.0757, 0.1086], Max Fitness: 0.7000, Avg Fitness: 0.4605\n",
      "Generation 15 - Best Individual: [0.0229, 0.0579, 0.0937, 0.0504, 0.0967, 0.2452, 0.2545, 0.0317, 0.0468, 0.1002], Max Fitness: 0.7167, Avg Fitness: 0.4375\n",
      "Generation 16 - Best Individual: [0.0607, 0.0513, 0.0483, 0.1021, 0.125, 0.1089, 0.1396, 0.1848, 0.0623, 0.117], Max Fitness: 0.7000, Avg Fitness: 0.4330\n",
      "Generation 17 - Best Individual: [0.0482, 0.0802, 0.076, 0.0756, 0.0994, 0.1865, 0.201, 0.0827, 0.0511, 0.0993], Max Fitness: 0.6833, Avg Fitness: 0.4642\n",
      "Generation 18 - Best Individual: [0.0294, 0.1271, 0.054, 0.1137, 0.1169, 0.1749, 0.1235, 0.091, 0.0851, 0.0844], Max Fitness: 0.6333, Avg Fitness: 0.4222\n",
      "Generation 19 - Best Individual: [0.0364, 0.049, 0.065, 0.0795, 0.1033, 0.1365, 0.158, 0.1685, 0.0528, 0.151], Max Fitness: 0.7167, Avg Fitness: 0.4645\n",
      "Generation 20 - Best Individual: [0.0181, 0.0182, 0.0906, 0.0334, 0.1016, 0.1425, 0.2396, 0.1076, 0.0649, 0.1835], Max Fitness: 0.7000, Avg Fitness: 0.4548\n",
      "Generation 21 - Best Individual: [0.0482, 0.0802, 0.076, 0.0756, 0.0994, 0.1865, 0.201, 0.0827, 0.0511, 0.0993], Max Fitness: 0.6333, Avg Fitness: 0.4328\n",
      "Generation 22 - Best Individual: [0.0218, 0.1286, 0.0625, 0.1171, 0.1173, 0.1356, 0.1583, 0.0914, 0.0935, 0.0739], Max Fitness: 0.7500, Avg Fitness: 0.4473\n",
      "Generation 23 - Best Individual: [0.0463, 0.0646, 0.0715, 0.0844, 0.1039, 0.139, 0.1685, 0.1367, 0.0561, 0.129], Max Fitness: 0.6333, Avg Fitness: 0.4442\n",
      "Generation 24 - Best Individual: [0.0479, 0.0496, 0.0643, 0.0943, 0.1275, 0.1239, 0.1426, 0.1724, 0.0581, 0.1194], Max Fitness: 0.7333, Avg Fitness: 0.4543\n",
      "Generation 25 - Best Individual: [0.0527, 0.0809, 0.0836, 0.0767, 0.1175, 0.1326, 0.1694, 0.1265, 0.061, 0.0991], Max Fitness: 0.7167, Avg Fitness: 0.4445\n",
      "Generation 26 - Best Individual: [0.055, 0.0826, 0.0736, 0.0955, 0.1014, 0.1392, 0.1552, 0.134, 0.0587, 0.1048], Max Fitness: 0.6167, Avg Fitness: 0.4285\n",
      "Generation 27 - Best Individual: [0.0292, 0.0306, 0.0807, 0.0566, 0.1109, 0.1316, 0.1934, 0.1347, 0.0803, 0.152], Max Fitness: 0.7000, Avg Fitness: 0.4560\n",
      "Generation 28 - Best Individual: [0.0357, 0.0473, 0.0773, 0.0607, 0.0939, 0.1613, 0.1988, 0.1314, 0.0535, 0.1401], Max Fitness: 0.6833, Avg Fitness: 0.4602\n",
      "Generation 29 - Best Individual: [0.0483, 0.0456, 0.0744, 0.0585, 0.0904, 0.1553, 0.2145, 0.1266, 0.0515, 0.1349], Max Fitness: 0.6667, Avg Fitness: 0.4438\n",
      "Generation 30 - Best Individual: [0.0218, 0.1286, 0.0625, 0.1171, 0.1173, 0.1356, 0.1583, 0.0914, 0.0935, 0.0739], Max Fitness: 0.6833, Avg Fitness: 0.4413\n",
      "Generation 31 - Best Individual: [0.0443, 0.0442, 0.0726, 0.0692, 0.1053, 0.138, 0.181, 0.1442, 0.0736, 0.1276], Max Fitness: 0.6833, Avg Fitness: 0.4368\n",
      "Generation 32 - Best Individual: [0.0479, 0.0677, 0.0784, 0.0803, 0.0975, 0.1417, 0.1704, 0.137, 0.0578, 0.1213], Max Fitness: 0.6667, Avg Fitness: 0.4495\n",
      "Generation 33 - Best Individual: [0.0502, 0.052, 0.0674, 0.0988, 0.1336, 0.1302, 0.1011, 0.1807, 0.0609, 0.1251], Max Fitness: 0.7167, Avg Fitness: 0.4460\n",
      "Generation 34 - Best Individual: [0.0292, 0.0306, 0.0807, 0.0566, 0.1109, 0.1316, 0.1934, 0.1347, 0.0803, 0.152], Max Fitness: 0.6667, Avg Fitness: 0.4462\n",
      "Generation 35 - Best Individual: [0.0343, 0.047, 0.0756, 0.0696, 0.1074, 0.137, 0.1825, 0.1324, 0.0802, 0.134], Max Fitness: 0.6833, Avg Fitness: 0.4382\n",
      "Generation 36 - Best Individual: [0.0288, 0.088, 0.0699, 0.0889, 0.1056, 0.1484, 0.1785, 0.1114, 0.0735, 0.107], Max Fitness: 0.7000, Avg Fitness: 0.4388\n",
      "Generation 37 - Best Individual: [0.0427, 0.0554, 0.0645, 0.0801, 0.1064, 0.1503, 0.1814, 0.1385, 0.0616, 0.1191], Max Fitness: 0.6667, Avg Fitness: 0.4405\n",
      "Generation 38 - Best Individual: [0.0476, 0.069, 0.0764, 0.0832, 0.1001, 0.1432, 0.1693, 0.1343, 0.0596, 0.1173], Max Fitness: 0.7333, Avg Fitness: 0.4368\n",
      "Generation 39 - Best Individual: [0.041, 0.0648, 0.0718, 0.0847, 0.1079, 0.137, 0.1674, 0.1421, 0.0631, 0.1202], Max Fitness: 0.7000, Avg Fitness: 0.4640\n",
      "Generation 40 - Best Individual: [0.0268, 0.1147, 0.0643, 0.1103, 0.1159, 0.1356, 0.1593, 0.1041, 0.0863, 0.0827], Max Fitness: 0.6167, Avg Fitness: 0.4428\n",
      "Generation 41 - Best Individual: [0.0309, 0.0965, 0.0672, 0.1006, 0.1115, 0.1401, 0.1664, 0.1119, 0.079, 0.0959], Max Fitness: 0.7167, Avg Fitness: 0.4397\n",
      "Error in game simulation: No hay nodos válidos disponibles para iniciar el juego\n",
      "Generation 42 - Best Individual: [0.0411, 0.0539, 0.0651, 0.0776, 0.1095, 0.1502, 0.1847, 0.1377, 0.0633, 0.1169], Max Fitness: 0.6833, Avg Fitness: 0.4408\n",
      "Generation 43 - Best Individual: [0.0414, 0.0603, 0.0571, 0.0794, 0.1154, 0.1532, 0.1874, 0.1007, 0.0965, 0.1086], Max Fitness: 0.6833, Avg Fitness: 0.4472\n",
      "Generation 44 - Best Individual: [0.0398, 0.0586, 0.0491, 0.0728, 0.0965, 0.1446, 0.1778, 0.1301, 0.127, 0.1037], Max Fitness: 0.7833, Avg Fitness: 0.4443\n",
      "Generation 45 - Best Individual: [0.0378, 0.0657, 0.0704, 0.0929, 0.113, 0.1512, 0.1777, 0.1308, 0.0645, 0.096], Max Fitness: 0.6667, Avg Fitness: 0.4487\n",
      "Generation 46 - Best Individual: [0.0389, 0.0691, 0.0669, 0.0844, 0.1121, 0.145, 0.1764, 0.1139, 0.0834, 0.1099], Max Fitness: 0.7000, Avg Fitness: 0.4483\n",
      "Generation 47 - Best Individual: [0.0333, 0.0949, 0.0684, 0.0988, 0.1114, 0.1386, 0.1641, 0.1157, 0.0779, 0.0969], Max Fitness: 0.7667, Avg Fitness: 0.4642\n",
      "Generation 48 - Best Individual: [0.0423, 0.0646, 0.0733, 0.0791, 0.1067, 0.1462, 0.1785, 0.1348, 0.0615, 0.113], Max Fitness: 0.6833, Avg Fitness: 0.4435\n",
      "Generation 49 - Best Individual: [0.0391, 0.0611, 0.0851, 0.0809, 0.1071, 0.1409, 0.1714, 0.1337, 0.063, 0.1177], Max Fitness: 0.6500, Avg Fitness: 0.4435\n"
     ]
    }
   ],
   "source": [
    "selection_method3 = \"best\"  # Options: \"tournament\", \"roulette\", \"best\"\n",
    " \n",
    "\n",
    "ga3 = CatanGA(\n",
    "    population_size=population_size, \n",
    "    generations=generations, \n",
    "    mutation_prob=mutation_prob, \n",
    "    crossover_prob=crossover_prob,\n",
    "    selection_method=selection_method3,\n",
    "    tournament_size=tournament_size,\n",
    "    mutation_sigma=mutation_sigma,\n",
    "    mutation_indpb=mutation_indpb,\n",
    "    num_games_per_individual=num_games_per_individual\n",
    ")\n",
    "\n",
    "best_distribution3 = ga3.run()"
   ]
  },
  {
   "cell_type": "code",
   "execution_count": 10,
   "metadata": {},
   "outputs": [
    {
     "name": "stdout",
     "output_type": "stream",
     "text": [
      "Best probability distribution and agent: ([0.0398, 0.0586, 0.0491, 0.0728, 0.0965, 0.1446, 0.1778, 0.1301, 0.127, 0.1037], <class 'Agents.EdoAgent.EdoAgent'>)\n"
     ]
    }
   ],
   "source": [
    "print(\"Best probability distribution and agent:\", best_distribution3)"
   ]
  },
  {
   "cell_type": "code",
   "execution_count": 11,
   "metadata": {},
   "outputs": [],
   "source": [
    "df3 = pd.DataFrame(ga3.logbook)\n",
    "df3.to_csv(\"./res_trials/trial_selection_method3.csv\", index = False)"
   ]
  }
 ],
 "metadata": {
  "kernelspec": {
   "display_name": "Python 3",
   "language": "python",
   "name": "python3"
  },
  "language_info": {
   "codemirror_mode": {
    "name": "ipython",
    "version": 3
   },
   "file_extension": ".py",
   "mimetype": "text/x-python",
   "name": "python",
   "nbconvert_exporter": "python",
   "pygments_lexer": "ipython3",
   "version": "3.12.5"
  }
 },
 "nbformat": 4,
 "nbformat_minor": 2
}
