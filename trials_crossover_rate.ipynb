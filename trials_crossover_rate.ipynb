{
 "cells": [
  {
   "cell_type": "markdown",
   "metadata": {},
   "source": [
    "# **Ratio de Cruce**"
   ]
  },
  {
   "cell_type": "code",
   "execution_count": 1,
   "metadata": {},
   "outputs": [],
   "source": [
    "from algorithm import CatanGA\n",
    "import pandas as pd"
   ]
  },
  {
   "cell_type": "code",
   "execution_count": 2,
   "metadata": {},
   "outputs": [],
   "source": [
    "population_size = 100\n",
    "generations = 50\n",
    "mutation_prob = 0.1\n",
    "selection_method = \"tournament\"  # Options: \"tournament\", \"roulette\", \"best\"\n",
    "tournament_size = 4\n",
    "mutation_sigma = 0.05\n",
    "mutation_indpb = 0.1\n",
    "num_games_per_individual = 15"
   ]
  },
  {
   "cell_type": "markdown",
   "metadata": {},
   "source": [
    "## **50**"
   ]
  },
  {
   "cell_type": "code",
   "execution_count": 3,
   "metadata": {},
   "outputs": [
    {
     "name": "stdout",
     "output_type": "stream",
     "text": [
      "Generation 0 - Best Individual: [0.0172, 0.2042, 0.1371, 0.0257, 0.061, 0.0016, 0.0954, 0.147, 0.1139, 0.1969], Max Fitness: 0.7000, Avg Fitness: 0.4345\n",
      "Generation 1 - Best Individual: [0.0512, 0.0153, 0.1591, 0.0171, 0.1242, 0.0232, 0.2415, 0.1937, 0.1358, 0.0389], Max Fitness: 0.6667, Avg Fitness: 0.4283\n",
      "Generation 2 - Best Individual: [0.1351, 0.1046, 0.0874, 0.0825, 0.028, 0.1308, 0.1596, 0.1302, 0.1409, 0.0009], Max Fitness: 0.6667, Avg Fitness: 0.4447\n",
      "Generation 3 - Best Individual: [0.0456, 0.0764, 0.2402, 0.0099, 0.0177, 0.2464, 0.0003, 0.1894, 0.1595, 0.0146], Max Fitness: 0.8000, Avg Fitness: 0.4393\n",
      "Error in game simulation: No hay nodos válidos disponibles para iniciar el juego\n",
      "Generation 4 - Best Individual: [0.0042, 0.1844, 0.0905, 0.0015, 0.1346, 0.2455, 0.0038, 0.0672, 0.1696, 0.0987], Max Fitness: 0.7833, Avg Fitness: 0.4628\n",
      "Generation 5 - Best Individual: [0.0315, 0.2853, 0.0616, 0.0076, 0.1486, 0.2367, 0.0037, 0.0192, 0.0225, 0.1833], Max Fitness: 0.6667, Avg Fitness: 0.4258\n",
      "Generation 6 - Best Individual: [0.0472, 0.088, 0.1474, 0.0158, 0.1151, 0.0215, 0.2238, 0.1794, 0.1258, 0.036], Max Fitness: 0.7833, Avg Fitness: 0.4620\n",
      "Error in game simulation: No hay nodos válidos disponibles para iniciar el juego\n",
      "Generation 7 - Best Individual: [0.0512, 0.0153, 0.1591, 0.0171, 0.1242, 0.0232, 0.2415, 0.1937, 0.1358, 0.0389], Max Fitness: 0.5833, Avg Fitness: 0.4223\n",
      "Generation 8 - Best Individual: [0.0603, 0.1398, 0.2006, 0.0216, 0.045, 0.002, 0.0546, 0.2334, 0.2031, 0.0396], Max Fitness: 0.7333, Avg Fitness: 0.4380\n",
      "Generation 9 - Best Individual: [0.0512, 0.0153, 0.1591, 0.0171, 0.1242, 0.0232, 0.2415, 0.1937, 0.1358, 0.0389], Max Fitness: 0.7000, Avg Fitness: 0.4485\n",
      "Generation 10 - Best Individual: [0.0626, 0.1453, 0.2085, 0.0225, 0.0467, 0.0224, 0.0568, 0.1832, 0.2109, 0.0411], Max Fitness: 0.6500, Avg Fitness: 0.4340\n",
      "Generation 11 - Best Individual: [0.0051, 0.0047, 0.1602, 0.0172, 0.1301, 0.2147, 0.056, 0.0825, 0.2083, 0.1212], Max Fitness: 0.6833, Avg Fitness: 0.4333\n",
      "Generation 12 - Best Individual: [0.0044, 0.0041, 0.1635, 0.0176, 0.1328, 0.219, 0.0572, 0.0842, 0.2126, 0.1046], Max Fitness: 0.6500, Avg Fitness: 0.3927\n",
      "Generation 13 - Best Individual: [0.0053, 0.0049, 0.166, 0.0178, 0.029, 0.1355, 0.1653, 0.1349, 0.2157, 0.1256], Max Fitness: 0.7333, Avg Fitness: 0.4415\n",
      "Generation 14 - Best Individual: [0.0603, 0.1398, 0.2006, 0.0216, 0.045, 0.002, 0.0546, 0.2334, 0.2031, 0.0396], Max Fitness: 0.7167, Avg Fitness: 0.4288\n",
      "Generation 15 - Best Individual: [0.0053, 0.0049, 0.166, 0.0178, 0.029, 0.1355, 0.1653, 0.1349, 0.2157, 0.1256], Max Fitness: 0.7333, Avg Fitness: 0.4347\n",
      "Error in game simulation: No hay nodos válidos disponibles para iniciar el juego\n",
      "Generation 16 - Best Individual: [0.0555, 0.0045, 0.1504, 0.0161, 0.1221, 0.2016, 0.0525, 0.0775, 0.1955, 0.1243], Max Fitness: 0.7667, Avg Fitness: 0.4333\n",
      "Generation 17 - Best Individual: [0.0067, 0.0062, 0.147, 0.0673, 0.1234, 0.0212, 0.0737, 0.1208, 0.2742, 0.1595], Max Fitness: 0.7000, Avg Fitness: 0.4460\n",
      "Generation 18 - Best Individual: [0.0067, 0.0062, 0.147, 0.0673, 0.1234, 0.0212, 0.0737, 0.1208, 0.2742, 0.1595], Max Fitness: 0.7000, Avg Fitness: 0.4403\n",
      "Error in game simulation: No hay nodos válidos disponibles para iniciar el juego\n",
      "Generation 19 - Best Individual: [0.0047, 0.0042, 0.1426, 0.0153, 0.0307, 0.1438, 0.1754, 0.1431, 0.229, 0.1112], Max Fitness: 0.6500, Avg Fitness: 0.4438\n",
      "Generation 20 - Best Individual: [0.0044, 0.066, 0.0464, 0.015, 0.1135, 0.1873, 0.1954, 0.1566, 0.1097, 0.1057], Max Fitness: 0.7667, Avg Fitness: 0.4410\n",
      "Error in game simulation: No hay nodos válidos disponibles para iniciar el juego\n",
      "Generation 21 - Best Individual: [0.0044, 0.066, 0.0464, 0.015, 0.1135, 0.1873, 0.1954, 0.1566, 0.1097, 0.1057], Max Fitness: 0.6333, Avg Fitness: 0.4247\n",
      "Error in game simulation: No hay nodos válidos disponibles para iniciar el juego\n",
      "Generation 22 - Best Individual: [0.0044, 0.066, 0.0464, 0.015, 0.1135, 0.1873, 0.1954, 0.1566, 0.1097, 0.1057], Max Fitness: 0.6667, Avg Fitness: 0.4582\n",
      "Generation 23 - Best Individual: [0.0044, 0.066, 0.0464, 0.015, 0.1135, 0.1873, 0.1954, 0.1566, 0.1097, 0.1057], Max Fitness: 0.6000, Avg Fitness: 0.4498\n",
      "Generation 24 - Best Individual: [0.0053, 0.0048, 0.1619, 0.0174, 0.0349, 0.1633, 0.199, 0.1625, 0.1246, 0.1263], Max Fitness: 0.6333, Avg Fitness: 0.4532\n",
      "Generation 25 - Best Individual: [0.0053, 0.0048, 0.1619, 0.0174, 0.0349, 0.1633, 0.199, 0.1625, 0.1246, 0.1263], Max Fitness: 0.7500, Avg Fitness: 0.4732\n",
      "Generation 26 - Best Individual: [0.0053, 0.0048, 0.1619, 0.0174, 0.0349, 0.1633, 0.199, 0.1625, 0.1246, 0.1263], Max Fitness: 0.7833, Avg Fitness: 0.4602\n",
      "Generation 27 - Best Individual: [0.0043, 0.0501, 0.1096, 0.0144, 0.0904, 0.131, 0.1598, 0.1304, 0.2087, 0.1013], Max Fitness: 0.6333, Avg Fitness: 0.4228\n",
      "Generation 28 - Best Individual: [0.0043, 0.0647, 0.0465, 0.015, 0.1137, 0.1876, 0.1956, 0.1568, 0.1099, 0.1059], Max Fitness: 0.6667, Avg Fitness: 0.4470\n",
      "Generation 29 - Best Individual: [0.0043, 0.0501, 0.1096, 0.0144, 0.0904, 0.131, 0.1598, 0.1304, 0.2087, 0.1013], Max Fitness: 0.7000, Avg Fitness: 0.4660\n",
      "Generation 30 - Best Individual: [0.0053, 0.0048, 0.1619, 0.0174, 0.0349, 0.1633, 0.199, 0.1625, 0.1246, 0.1263], Max Fitness: 0.7167, Avg Fitness: 0.4617\n",
      "Generation 31 - Best Individual: [0.0043, 0.0501, 0.1096, 0.0144, 0.0904, 0.131, 0.1598, 0.1304, 0.2087, 0.1013], Max Fitness: 0.7000, Avg Fitness: 0.4510\n",
      "Generation 32 - Best Individual: [0.0043, 0.0501, 0.1096, 0.0144, 0.0904, 0.131, 0.1598, 0.1304, 0.2087, 0.1013], Max Fitness: 0.6667, Avg Fitness: 0.4502\n",
      "Generation 33 - Best Individual: [0.0043, 0.0501, 0.1096, 0.0144, 0.0904, 0.131, 0.1598, 0.1304, 0.2087, 0.1013], Max Fitness: 0.6167, Avg Fitness: 0.4307\n",
      "Generation 34 - Best Individual: [0.0046, 0.0531, 0.0546, 0.0177, 0.0957, 0.1387, 0.1692, 0.1381, 0.221, 0.1073], Max Fitness: 0.7000, Avg Fitness: 0.4587\n",
      "Generation 35 - Best Individual: [0.0053, 0.0048, 0.1619, 0.0174, 0.0349, 0.1633, 0.199, 0.1625, 0.1246, 0.1263], Max Fitness: 0.6500, Avg Fitness: 0.4495\n",
      "Generation 36 - Best Individual: [0.0038, 0.0439, 0.096, 0.0126, 0.0995, 0.1641, 0.1712, 0.1372, 0.1829, 0.0888], Max Fitness: 0.6500, Avg Fitness: 0.4453\n",
      "Generation 37 - Best Individual: [0.0, 0.0673, 0.0473, 0.0153, 0.1156, 0.191, 0.1695, 0.1384, 0.1269, 0.1287], Max Fitness: 0.6333, Avg Fitness: 0.4593\n",
      "Generation 38 - Best Individual: [0.0042, 0.0044, 0.1462, 0.0157, 0.1025, 0.1275, 0.1555, 0.1269, 0.203, 0.1141], Max Fitness: 0.6500, Avg Fitness: 0.4392\n",
      "Generation 39 - Best Individual: [0.0043, 0.0432, 0.1115, 0.0147, 0.092, 0.1333, 0.1626, 0.1327, 0.2058, 0.0999], Max Fitness: 0.6667, Avg Fitness: 0.4418\n",
      "Error in game simulation: No hay nodos válidos disponibles para iniciar el juego\n",
      "Generation 40 - Best Individual: [0.0043, 0.0045, 0.1502, 0.0161, 0.1053, 0.1515, 0.1845, 0.1508, 0.1156, 0.1172], Max Fitness: 0.7333, Avg Fitness: 0.4543\n",
      "Generation 41 - Best Individual: [0.0043, 0.0432, 0.1115, 0.0147, 0.092, 0.1333, 0.1626, 0.1327, 0.2058, 0.0999], Max Fitness: 0.7333, Avg Fitness: 0.4578\n",
      "Error in game simulation: No hay nodos válidos disponibles para iniciar el juego\n",
      "Generation 42 - Best Individual: [0.0044, 0.0047, 0.0505, 0.0163, 0.1051, 0.1734, 0.1953, 0.1592, 0.1846, 0.1065], Max Fitness: 0.7167, Avg Fitness: 0.4545\n",
      "Generation 43 - Best Individual: [0.0043, 0.0045, 0.1502, 0.0161, 0.1053, 0.1515, 0.1845, 0.1508, 0.1156, 0.1172], Max Fitness: 0.7167, Avg Fitness: 0.4288\n",
      "Generation 44 - Best Individual: [0.0045, 0.0043, 0.1435, 0.0154, 0.1006, 0.1448, 0.1763, 0.1178, 0.1887, 0.1041], Max Fitness: 0.6333, Avg Fitness: 0.4422\n",
      "Generation 45 - Best Individual: [0.0042, 0.0044, 0.1579, 0.0156, 0.0709, 0.1749, 0.2003, 0.1499, 0.1111, 0.1108], Max Fitness: 0.6500, Avg Fitness: 0.4428\n",
      "Generation 46 - Best Individual: [0.0047, 0.0049, 0.1625, 0.0, 0.1139, 0.1639, 0.1995, 0.1631, 0.0607, 0.1268], Max Fitness: 0.7833, Avg Fitness: 0.4562\n",
      "Generation 47 - Best Individual: [0.0044, 0.0664, 0.0467, 0.0153, 0.1154, 0.1907, 0.1692, 0.1382, 0.1266, 0.1271], Max Fitness: 0.6833, Avg Fitness: 0.4205\n",
      "Generation 48 - Best Individual: [0.005, 0.0052, 0.172, 0.0, 0.1206, 0.1735, 0.179, 0.1463, 0.0642, 0.1342], Max Fitness: 0.7000, Avg Fitness: 0.4530\n",
      "Generation 49 - Best Individual: [0.0044, 0.0, 0.1573, 0.0156, 0.1056, 0.1742, 0.1818, 0.151, 0.113, 0.0971], Max Fitness: 0.6667, Avg Fitness: 0.4417\n"
     ]
    }
   ],
   "source": [
    "crossover_prob1 = 0.25\n",
    "\n",
    "ga1 = CatanGA(\n",
    "    population_size=population_size, \n",
    "    generations=generations, \n",
    "    mutation_prob=mutation_prob, \n",
    "    crossover_prob=crossover_prob1,\n",
    "    selection_method=selection_method,\n",
    "    tournament_size=tournament_size,\n",
    "    mutation_sigma=mutation_sigma,\n",
    "    mutation_indpb=mutation_indpb,\n",
    "    num_games_per_individual=num_games_per_individual\n",
    ")\n",
    "\n",
    "best_distribution1 = ga1.run()"
   ]
  },
  {
   "cell_type": "code",
   "execution_count": 4,
   "metadata": {},
   "outputs": [
    {
     "name": "stdout",
     "output_type": "stream",
     "text": [
      "Best probability distribution and agent: ([0.0456, 0.0764, 0.2402, 0.0099, 0.0177, 0.2464, 0.0003, 0.1894, 0.1595, 0.0146], <class 'Agents.CrabisaAgent.CrabisaAgent'>)\n"
     ]
    }
   ],
   "source": [
    "print(\"Best probability distribution and agent:\", best_distribution1)"
   ]
  },
  {
   "cell_type": "code",
   "execution_count": 5,
   "metadata": {},
   "outputs": [],
   "source": [
    "df1 = pd.DataFrame(ga1.logbook)\n",
    "df1.to_csv(\"./res_trials/trial_cross1.csv\", index = False)"
   ]
  },
  {
   "cell_type": "markdown",
   "metadata": {},
   "source": [
    "## **100**"
   ]
  },
  {
   "cell_type": "code",
   "execution_count": 6,
   "metadata": {},
   "outputs": [
    {
     "name": "stderr",
     "output_type": "stream",
     "text": [
      "c:\\Users\\valel\\AppData\\Local\\Programs\\Python\\Python312\\Lib\\site-packages\\deap\\creator.py:185: RuntimeWarning: A class named 'FitnessMax' has already been created and it will be overwritten. Consider deleting previous creation of that class or rename it.\n",
      "  warnings.warn(\"A class named '{0}' has already been created and it \"\n",
      "c:\\Users\\valel\\AppData\\Local\\Programs\\Python\\Python312\\Lib\\site-packages\\deap\\creator.py:185: RuntimeWarning: A class named 'Individual' has already been created and it will be overwritten. Consider deleting previous creation of that class or rename it.\n",
      "  warnings.warn(\"A class named '{0}' has already been created and it \"\n"
     ]
    },
    {
     "name": "stdout",
     "output_type": "stream",
     "text": [
      "Generation 0 - Best Individual: [0.1904, 0.2694, 0.0752, 0.0476, 0.0659, 0.0973, 0.0001, 0.0069, 0.1936, 0.0536], Max Fitness: 0.7000, Avg Fitness: 0.4227\n",
      "Generation 1 - Best Individual: [0.1197, 0.1983, 0.0105, 0.0238, 0.1875, 0.1548, 0.0134, 0.2185, 0.0215, 0.052], Max Fitness: 0.6500, Avg Fitness: 0.4355\n",
      "Generation 2 - Best Individual: [0.0132, 0.0704, 0.0236, 0.1453, 0.1417, 0.0702, 0.0294, 0.1398, 0.3598, 0.0066], Max Fitness: 0.6167, Avg Fitness: 0.4390\n",
      "Generation 3 - Best Individual: [0.2796, 0.0236, 0.0507, 0.0857, 0.1001, 0.0025, 0.0365, 0.1759, 0.1642, 0.0812], Max Fitness: 0.6667, Avg Fitness: 0.4492\n",
      "Generation 4 - Best Individual: [0.0524, 0.1851, 0.0299, 0.1857, 0.1416, 0.0662, 0.0395, 0.1202, 0.0686, 0.1108], Max Fitness: 0.7833, Avg Fitness: 0.4438\n",
      "Generation 5 - Best Individual: [0.0147, 0.1235, 0.0475, 0.0455, 0.1355, 0.0601, 0.0996, 0.1481, 0.1311, 0.1944], Max Fitness: 0.7500, Avg Fitness: 0.4373\n",
      "Generation 6 - Best Individual: [0.0468, 0.1252, 0.0305, 0.1898, 0.2719, 0.0699, 0.0416, 0.0097, 0.0565, 0.1581], Max Fitness: 0.6667, Avg Fitness: 0.4550\n",
      "Generation 7 - Best Individual: [0.0552, 0.019, 0.1336, 0.0083, 0.3046, 0.0783, 0.0466, 0.1422, 0.0812, 0.131], Max Fitness: 0.6833, Avg Fitness: 0.4273\n",
      "Generation 8 - Best Individual: [0.1297, 0.0603, 0.0438, 0.008, 0.0504, 0.3342, 0.1054, 0.0719, 0.026, 0.1703], Max Fitness: 0.6833, Avg Fitness: 0.4517\n",
      "Generation 9 - Best Individual: [0.0489, 0.0168, 0.0544, 0.0099, 0.3633, 0.0934, 0.0556, 0.1696, 0.072, 0.1161], Max Fitness: 0.6667, Avg Fitness: 0.4497\n",
      "Generation 10 - Best Individual: [0.0774, 0.0267, 0.1677, 0.0104, 0.3824, 0.0983, 0.0585, 0.1007, 0.0364, 0.0415], Max Fitness: 0.6833, Avg Fitness: 0.4350\n",
      "Generation 11 - Best Individual: [0.0958, 0.033, 0.2075, 0.0129, 0.4731, 0.0, 0.021, 0.0153, 0.0901, 0.0513], Max Fitness: 0.6833, Avg Fitness: 0.4332\n",
      "Generation 12 - Best Individual: [0.1555, 0.055, 0.1274, 0.0096, 0.3689, 0.0, 0.017, 0.0124, 0.073, 0.1812], Max Fitness: 0.8167, Avg Fitness: 0.4632\n",
      "Generation 13 - Best Individual: [0.0639, 0.0205, 0.0649, 0.1007, 0.2136, 0.0948, 0.0581, 0.1526, 0.0871, 0.1438], Max Fitness: 0.6667, Avg Fitness: 0.4655\n",
      "Generation 14 - Best Individual: [0.0065, 0.0654, 0.2174, 0.0391, 0.0435, 0.2888, 0.0486, 0.0113, 0.1125, 0.1669], Max Fitness: 0.6833, Avg Fitness: 0.4368\n",
      "Error in game simulation: No hay nodos válidos disponibles para iniciar el juego\n",
      "Generation 15 - Best Individual: [0.0554, 0.019, 0.0616, 0.0112, 0.408, 0.1048, 0.0623, 0.1073, 0.0388, 0.1316], Max Fitness: 0.7500, Avg Fitness: 0.4558\n",
      "Generation 16 - Best Individual: [0.0629, 0.0202, 0.0638, 0.0991, 0.21, 0.1046, 0.0621, 0.1501, 0.0857, 0.1415], Max Fitness: 0.7333, Avg Fitness: 0.4357\n",
      "Generation 17 - Best Individual: [0.0554, 0.019, 0.0616, 0.0112, 0.408, 0.1048, 0.0623, 0.1073, 0.0388, 0.1316], Max Fitness: 0.6833, Avg Fitness: 0.4672\n",
      "Generation 18 - Best Individual: [0.0554, 0.019, 0.0616, 0.0112, 0.408, 0.1048, 0.0623, 0.1073, 0.0388, 0.1316], Max Fitness: 0.7333, Avg Fitness: 0.4532\n",
      "Generation 19 - Best Individual: [0.0503, 0.0172, 0.0559, 0.0102, 0.3705, 0.0951, 0.0527, 0.1385, 0.0791, 0.1305], Max Fitness: 0.6833, Avg Fitness: 0.4385\n",
      "Generation 20 - Best Individual: [0.1286, 0.0433, 0.1053, 0.0462, 0.3204, 0.0731, 0.0436, 0.0103, 0.0603, 0.1689], Max Fitness: 0.7667, Avg Fitness: 0.4542\n",
      "Generation 21 - Best Individual: [0.0554, 0.019, 0.0616, 0.0112, 0.408, 0.1048, 0.0623, 0.1073, 0.0388, 0.1316], Max Fitness: 0.6667, Avg Fitness: 0.4482\n",
      "Generation 22 - Best Individual: [0.0598, 0.0192, 0.0607, 0.0104, 0.379, 0.0973, 0.0578, 0.0997, 0.0815, 0.1346], Max Fitness: 0.6833, Avg Fitness: 0.4228\n",
      "Generation 23 - Best Individual: [0.0061, 0.0229, 0.0728, 0.1127, 0.2213, 0.0982, 0.0602, 0.1581, 0.0902, 0.1575], Max Fitness: 0.6500, Avg Fitness: 0.4525\n",
      "Generation 24 - Best Individual: [0.007, 0.0217, 0.0703, 0.0128, 0.3079, 0.0832, 0.0496, 0.1834, 0.0996, 0.1645], Max Fitness: 0.6333, Avg Fitness: 0.4602\n",
      "Generation 25 - Best Individual: [0.0594, 0.0191, 0.0743, 0.1151, 0.2739, 0.074, 0.0441, 0.1632, 0.0403, 0.1366], Max Fitness: 0.7500, Avg Fitness: 0.4333\n",
      "Generation 26 - Best Individual: [0.0638, 0.0218, 0.0709, 0.0129, 0.313, 0.0846, 0.0504, 0.1865, 0.0447, 0.1514], Max Fitness: 0.6333, Avg Fitness: 0.4562\n",
      "Generation 27 - Best Individual: [0.0063, 0.0234, 0.0742, 0.115, 0.2734, 0.0738, 0.044, 0.163, 0.0406, 0.1863], Max Fitness: 0.7500, Avg Fitness: 0.4510\n",
      "Generation 28 - Best Individual: [0.0558, 0.0191, 0.062, 0.0113, 0.4106, 0.0989, 0.0627, 0.108, 0.0391, 0.1325], Max Fitness: 0.6500, Avg Fitness: 0.4380\n",
      "Generation 29 - Best Individual: [0.0553, 0.0189, 0.0614, 0.0112, 0.4069, 0.098, 0.0621, 0.1137, 0.0412, 0.1313], Max Fitness: 0.7333, Avg Fitness: 0.4440\n",
      "Generation 30 - Best Individual: [0.0598, 0.0244, 0.0775, 0.1223, 0.291, 0.0785, 0.0469, 0.1157, 0.0419, 0.142], Max Fitness: 0.6833, Avg Fitness: 0.4557\n",
      "Generation 31 - Best Individual: [0.0524, 0.0207, 0.0796, 0.1233, 0.2932, 0.0716, 0.068, 0.1102, 0.0399, 0.1411], Max Fitness: 0.7000, Avg Fitness: 0.4612\n",
      "Generation 32 - Best Individual: [0.0062, 0.0231, 0.0734, 0.1137, 0.2705, 0.0659, 0.0539, 0.1612, 0.0875, 0.1446], Max Fitness: 0.6667, Avg Fitness: 0.4478\n",
      "Generation 33 - Best Individual: [0.0557, 0.0191, 0.0619, 0.0129, 0.41, 0.0987, 0.0626, 0.1078, 0.039, 0.1323], Max Fitness: 0.6833, Avg Fitness: 0.4483\n",
      "Generation 34 - Best Individual: [0.0522, 0.0206, 0.1045, 0.0107, 0.3858, 0.0942, 0.0521, 0.1024, 0.037, 0.1405], Max Fitness: 0.6833, Avg Fitness: 0.4495\n",
      "Error in game simulation: No hay nodos válidos disponibles para iniciar el juego\n",
      "Generation 35 - Best Individual: [0.0746, 0.0158, 0.0679, 0.1052, 0.3159, 0.0773, 0.0683, 0.1032, 0.0373, 0.1345], Max Fitness: 0.7000, Avg Fitness: 0.4538\n",
      "Generation 36 - Best Individual: [0.0641, 0.0189, 0.0613, 0.0112, 0.406, 0.1042, 0.0513, 0.0894, 0.0413, 0.1523], Max Fitness: 0.6500, Avg Fitness: 0.4475\n",
      "Generation 37 - Best Individual: [0.0633, 0.0186, 0.0605, 0.0111, 0.4009, 0.1029, 0.0506, 0.0882, 0.0762, 0.1277], Max Fitness: 0.7500, Avg Fitness: 0.4745\n",
      "Generation 38 - Best Individual: [0.0652, 0.0192, 0.0623, 0.1013, 0.328, 0.084, 0.0522, 0.0909, 0.042, 0.1549], Max Fitness: 0.7167, Avg Fitness: 0.4458\n",
      "Generation 39 - Best Individual: [0.0631, 0.0186, 0.0711, 0.1159, 0.275, 0.1007, 0.0529, 0.1039, 0.0424, 0.1564], Max Fitness: 0.7167, Avg Fitness: 0.4587\n",
      "Generation 40 - Best Individual: [0.064, 0.0189, 0.0612, 0.0112, 0.4056, 0.093, 0.0515, 0.1011, 0.0413, 0.1522], Max Fitness: 0.6833, Avg Fitness: 0.4372\n",
      "Generation 41 - Best Individual: [0.0634, 0.0187, 0.0606, 0.0111, 0.4017, 0.0921, 0.051, 0.1001, 0.043, 0.1583], Max Fitness: 0.6333, Avg Fitness: 0.4392\n",
      "Generation 42 - Best Individual: [0.0631, 0.0186, 0.0711, 0.1159, 0.275, 0.1007, 0.0529, 0.1039, 0.0424, 0.1564], Max Fitness: 0.6667, Avg Fitness: 0.4692\n",
      "Generation 43 - Best Individual: [0.0674, 0.0199, 0.0645, 0.0, 0.4008, 0.098, 0.0542, 0.0945, 0.0389, 0.1618], Max Fitness: 0.8000, Avg Fitness: 0.4263\n",
      "Generation 44 - Best Individual: [0.0631, 0.0186, 0.0711, 0.1159, 0.275, 0.1007, 0.0529, 0.1039, 0.0424, 0.1564], Max Fitness: 0.6833, Avg Fitness: 0.4485\n",
      "Generation 45 - Best Individual: [0.0631, 0.0186, 0.0604, 0.011, 0.4002, 0.0918, 0.0452, 0.1188, 0.0407, 0.1502], Max Fitness: 0.6833, Avg Fitness: 0.4507\n",
      "Generation 46 - Best Individual: [0.0558, 0.0164, 0.0628, 0.1024, 0.3573, 0.0917, 0.0461, 0.0918, 0.0375, 0.1382], Max Fitness: 0.7167, Avg Fitness: 0.4590\n",
      "Generation 47 - Best Individual: [0.0623, 0.0184, 0.0596, 0.105, 0.3132, 0.0803, 0.0445, 0.1169, 0.0854, 0.1144], Max Fitness: 0.6500, Avg Fitness: 0.4752\n",
      "Generation 48 - Best Individual: [0.0653, 0.0193, 0.0631, 0.1025, 0.2819, 0.1033, 0.0542, 0.1065, 0.0435, 0.1604], Max Fitness: 0.6833, Avg Fitness: 0.4462\n",
      "Generation 49 - Best Individual: [0.0633, 0.0187, 0.0606, 0.0112, 0.4057, 0.1042, 0.0524, 0.0911, 0.0421, 0.1507], Max Fitness: 0.6500, Avg Fitness: 0.4165\n"
     ]
    }
   ],
   "source": [
    "crossover_prob2 = 0.5\n",
    "\n",
    "ga2 = CatanGA(\n",
    "    population_size=population_size, \n",
    "    generations=generations, \n",
    "    mutation_prob=mutation_prob, \n",
    "    crossover_prob=crossover_prob2,\n",
    "    selection_method=selection_method,\n",
    "    tournament_size=tournament_size,\n",
    "    mutation_sigma=mutation_sigma,\n",
    "    mutation_indpb=mutation_indpb,\n",
    "    num_games_per_individual=num_games_per_individual\n",
    ")\n",
    "\n",
    "best_distribution2 = ga2.run()"
   ]
  },
  {
   "cell_type": "code",
   "execution_count": 7,
   "metadata": {},
   "outputs": [
    {
     "name": "stdout",
     "output_type": "stream",
     "text": [
      "Best probability distribution and agent: ([0.1555, 0.055, 0.1274, 0.0096, 0.3689, 0.0, 0.017, 0.0124, 0.073, 0.1812], <class 'Agents.CarlesZaidaAgent.CarlesZaidaAgent'>)\n"
     ]
    }
   ],
   "source": [
    "print(\"Best probability distribution and agent:\", best_distribution2)"
   ]
  },
  {
   "cell_type": "code",
   "execution_count": 8,
   "metadata": {},
   "outputs": [],
   "source": [
    "df2 = pd.DataFrame(ga2.logbook)\n",
    "df2.to_csv(\"./res_trials/trial_cross2.csv\", index = False)"
   ]
  },
  {
   "cell_type": "markdown",
   "metadata": {},
   "source": [
    "## **150**"
   ]
  },
  {
   "cell_type": "code",
   "execution_count": 9,
   "metadata": {},
   "outputs": [
    {
     "name": "stdout",
     "output_type": "stream",
     "text": [
      "Generation 0 - Best Individual: [0.0565, 0.1579, 0.0757, 0.0316, 0.1106, 0.0242, 0.2834, 0.0922, 0.1145, 0.0534], Max Fitness: 0.7167, Avg Fitness: 0.4493\n",
      "Generation 1 - Best Individual: [0.0387, 0.1464, 0.0076, 0.2476, 0.149, 0.009, 0.0382, 0.0957, 0.0232, 0.2446], Max Fitness: 0.6833, Avg Fitness: 0.4157\n",
      "Generation 2 - Best Individual: [0.1226, 0.1707, 0.1301, 0.02, 0.0443, 0.1295, 0.0292, 0.0633, 0.208, 0.0823], Max Fitness: 0.7500, Avg Fitness: 0.4460\n",
      "Generation 3 - Best Individual: [0.0534, 0.067, 0.2705, 0.0795, 0.1287, 0.0989, 0.0223, 0.0082, 0.1654, 0.1061], Max Fitness: 0.7000, Avg Fitness: 0.4302\n",
      "Generation 4 - Best Individual: [0.0289, 0.0139, 0.0937, 0.0718, 0.2148, 0.2188, 0.0776, 0.0334, 0.0378, 0.2093], Max Fitness: 0.7167, Avg Fitness: 0.4550\n",
      "Generation 5 - Best Individual: [0.0867, 0.0197, 0.0273, 0.0802, 0.2389, 0.1884, 0.0367, 0.1053, 0.0583, 0.1585], Max Fitness: 0.7333, Avg Fitness: 0.4448\n",
      "Generation 6 - Best Individual: [0.01, 0.041, 0.0149, 0.0953, 0.2845, 0.0312, 0.1787, 0.0, 0.2124, 0.132], Max Fitness: 0.6333, Avg Fitness: 0.4867\n",
      "Generation 7 - Best Individual: [0.0273, 0.0355, 0.0929, 0.0477, 0.1427, 0.2059, 0.073, 0.0315, 0.1465, 0.197], Max Fitness: 0.6500, Avg Fitness: 0.4595\n",
      "Generation 8 - Best Individual: [0.1008, 0.0113, 0.0767, 0.0934, 0.1367, 0.1668, 0.191, 0.0266, 0.0301, 0.1666], Max Fitness: 0.6333, Avg Fitness: 0.4373\n",
      "Generation 9 - Best Individual: [0.0299, 0.0143, 0.0096, 0.0741, 0.222, 0.2262, 0.0802, 0.0229, 0.1045, 0.2163], Max Fitness: 0.6333, Avg Fitness: 0.4188\n",
      "Generation 10 - Best Individual: [0.0333, 0.0159, 0.0107, 0.0826, 0.2475, 0.2522, 0.0894, 0.0255, 0.0962, 0.1467], Max Fitness: 0.7000, Avg Fitness: 0.4475\n",
      "Generation 11 - Best Individual: [0.0288, 0.0, 0.0, 0.0724, 0.217, 0.2212, 0.1829, 0.0254, 0.1076, 0.1447], Max Fitness: 0.7333, Avg Fitness: 0.4465\n",
      "Generation 12 - Best Individual: [0.0288, 0.0, 0.0, 0.0724, 0.217, 0.2212, 0.1829, 0.0254, 0.1076, 0.1447], Max Fitness: 0.7167, Avg Fitness: 0.4748\n",
      "Generation 13 - Best Individual: [0.0291, 0.0139, 0.0953, 0.073, 0.2182, 0.2219, 0.0591, 0.037, 0.0419, 0.2106], Max Fitness: 0.7167, Avg Fitness: 0.4532\n",
      "Generation 14 - Best Individual: [0.0109, 0.0259, 0.0247, 0.1019, 0.2054, 0.2161, 0.2533, 0.0227, 0.1032, 0.0359], Max Fitness: 0.7333, Avg Fitness: 0.4687\n",
      "Generation 15 - Best Individual: [0.0247, 0.0119, 0.0079, 0.0614, 0.1839, 0.1732, 0.0413, 0.1932, 0.1233, 0.1792], Max Fitness: 0.6167, Avg Fitness: 0.4698\n",
      "Generation 16 - Best Individual: [0.0111, 0.0266, 0.0054, 0.102, 0.2078, 0.2215, 0.2597, 0.0233, 0.1058, 0.0368], Max Fitness: 0.6833, Avg Fitness: 0.4672\n",
      "Generation 17 - Best Individual: [0.0188, 0.0, 0.0, 0.1395, 0.2813, 0.265, 0.094, 0.0405, 0.1194, 0.0415], Max Fitness: 0.7000, Avg Fitness: 0.4405\n",
      "Generation 18 - Best Individual: [0.0949, 0.0283, 0.0743, 0.0381, 0.114, 0.1161, 0.0407, 0.2631, 0.1215, 0.109], Max Fitness: 0.6833, Avg Fitness: 0.4343\n",
      "Generation 19 - Best Individual: [0.0932, 0.0328, 0.0859, 0.0374, 0.112, 0.114, 0.04, 0.2584, 0.1193, 0.107], Max Fitness: 0.6333, Avg Fitness: 0.4458\n",
      "Generation 20 - Best Individual: [0.0102, 0.0334, 0.0875, 0.0449, 0.1344, 0.1367, 0.048, 0.2241, 0.1432, 0.1376], Max Fitness: 0.7000, Avg Fitness: 0.4607\n",
      "Generation 21 - Best Individual: [0.0095, 0.0308, 0.0855, 0.0932, 0.1899, 0.2024, 0.2372, 0.0213, 0.0966, 0.0336], Max Fitness: 0.8000, Avg Fitness: 0.4690\n",
      "Generation 22 - Best Individual: [0.0968, 0.0274, 0.0104, 0.1082, 0.3227, 0.0789, 0.079, 0.0276, 0.1284, 0.1206], Max Fitness: 0.7000, Avg Fitness: 0.4740\n",
      "Error in game simulation: No hay nodos válidos disponibles para iniciar el juego\n",
      "Generation 23 - Best Individual: [0.0191, 0.0461, 0.0057, 0.0674, 0.2019, 0.0926, 0.0453, 0.2122, 0.1353, 0.1744], Max Fitness: 0.6333, Avg Fitness: 0.4433\n",
      "Generation 24 - Best Individual: [0.0237, 0.0114, 0.0076, 0.0589, 0.2269, 0.1094, 0.0536, 0.2183, 0.1183, 0.1719], Max Fitness: 0.7000, Avg Fitness: 0.4607\n",
      "Generation 25 - Best Individual: [0.0154, 0.0502, 0.0123, 0.0743, 0.4021, 0.0982, 0.0983, 0.0344, 0.1598, 0.055], Max Fitness: 0.7167, Avg Fitness: 0.4648\n",
      "Generation 26 - Best Individual: [0.0102, 0.033, 0.0917, 0.0999, 0.2142, 0.0982, 0.048, 0.2252, 0.1436, 0.036], Max Fitness: 0.9167, Avg Fitness: 0.4367\n",
      "Generation 27 - Best Individual: [0.0, 0.0319, 0.0133, 0.1388, 0.4143, 0.1013, 0.1015, 0.028, 0.1268, 0.0441], Max Fitness: 0.7000, Avg Fitness: 0.4875\n",
      "Generation 28 - Best Individual: [0.0144, 0.0279, 0.0117, 0.1216, 0.1412, 0.2533, 0.0786, 0.1744, 0.0721, 0.1048], Max Fitness: 0.7167, Avg Fitness: 0.4678\n",
      "Generation 29 - Best Individual: [0.0, 0.0325, 0.0136, 0.1417, 0.1646, 0.2953, 0.1253, 0.0327, 0.1493, 0.045], Max Fitness: 0.7833, Avg Fitness: 0.4642\n",
      "Generation 30 - Best Individual: [0.0, 0.0468, 0.0115, 0.0693, 0.3748, 0.0915, 0.0916, 0.1924, 0.0795, 0.0426], Max Fitness: 0.6500, Avg Fitness: 0.4640\n",
      "Error in game simulation: No hay nodos válidos disponibles para iniciar el juego\n",
      "Generation 31 - Best Individual: [0.0135, 0.0369, 0.0153, 0.0826, 0.273, 0.254, 0.1211, 0.0334, 0.1219, 0.0483], Max Fitness: 0.7000, Avg Fitness: 0.4630\n",
      "Generation 32 - Best Individual: [0.0221, 0.0431, 0.0096, 0.0825, 0.3997, 0.0976, 0.0977, 0.0342, 0.1588, 0.0547], Max Fitness: 0.7500, Avg Fitness: 0.4712\n",
      "Generation 33 - Best Individual: [0.022, 0.0431, 0.0096, 0.0825, 0.193, 0.1836, 0.0778, 0.1729, 0.0714, 0.1441], Max Fitness: 0.7167, Avg Fitness: 0.4652\n",
      "Generation 34 - Best Individual: [0.0243, 0.0117, 0.0086, 0.0739, 0.3577, 0.0874, 0.0875, 0.0306, 0.1422, 0.1761], Max Fitness: 0.6667, Avg Fitness: 0.4677\n",
      "Generation 35 - Best Individual: [0.0196, 0.0391, 0.0096, 0.0578, 0.3124, 0.2256, 0.0869, 0.021, 0.1305, 0.0975], Max Fitness: 0.7000, Avg Fitness: 0.4355\n",
      "Generation 36 - Best Individual: [0.0217, 0.0439, 0.0098, 0.0636, 0.4068, 0.0993, 0.0994, 0.0348, 0.1788, 0.0419], Max Fitness: 0.6333, Avg Fitness: 0.4697\n",
      "Generation 37 - Best Individual: [0.022, 0.0514, 0.0213, 0.1055, 0.3026, 0.1189, 0.119, 0.0353, 0.1815, 0.0425], Max Fitness: 0.6833, Avg Fitness: 0.4612\n",
      "Generation 38 - Best Individual: [0.0216, 0.0421, 0.0095, 0.0806, 0.2662, 0.2481, 0.0955, 0.0379, 0.1434, 0.0551], Max Fitness: 0.7000, Avg Fitness: 0.4762\n",
      "Generation 39 - Best Individual: [0.0193, 0.0386, 0.0125, 0.085, 0.2813, 0.1039, 0.104, 0.167, 0.0768, 0.1116], Max Fitness: 0.6500, Avg Fitness: 0.4697\n",
      "Generation 40 - Best Individual: [0.0201, 0.0097, 0.0071, 0.0611, 0.2955, 0.1684, 0.0649, 0.1171, 0.1106, 0.1455], Max Fitness: 0.6833, Avg Fitness: 0.4543\n",
      "Generation 41 - Best Individual: [0.0155, 0.03, 0.0229, 0.0859, 0.2737, 0.1076, 0.1051, 0.1689, 0.0776, 0.1128], Max Fitness: 0.7500, Avg Fitness: 0.4413\n",
      "Generation 42 - Best Individual: [0.019, 0.0118, 0.0086, 0.0711, 0.284, 0.1051, 0.1076, 0.1536, 0.1293, 0.1099], Max Fitness: 0.6500, Avg Fitness: 0.4418\n",
      "Generation 43 - Best Individual: [0.0213, 0.0433, 0.02, 0.0734, 0.339, 0.1773, 0.0972, 0.0339, 0.1404, 0.0542], Max Fitness: 0.7000, Avg Fitness: 0.4813\n",
      "Generation 44 - Best Individual: [0.0194, 0.0394, 0.0182, 0.0668, 0.3088, 0.1614, 0.0943, 0.1285, 0.1214, 0.0418], Max Fitness: 0.6667, Avg Fitness: 0.4553\n",
      "Generation 45 - Best Individual: [0.0247, 0.0139, 0.0113, 0.0685, 0.3365, 0.1306, 0.1337, 0.0416, 0.1726, 0.0666], Max Fitness: 0.6833, Avg Fitness: 0.4473\n",
      "Generation 46 - Best Individual: [0.0202, 0.0422, 0.0096, 0.0808, 0.2747, 0.1016, 0.104, 0.1485, 0.125, 0.0934], Max Fitness: 0.7167, Avg Fitness: 0.4705\n",
      "Generation 47 - Best Individual: [0.0201, 0.0537, 0.0112, 0.0789, 0.3064, 0.1921, 0.1053, 0.0321, 0.149, 0.0512], Max Fitness: 0.6500, Avg Fitness: 0.4527\n",
      "Generation 48 - Best Individual: [0.0147, 0.048, 0.0099, 0.0704, 0.2735, 0.1714, 0.0953, 0.1382, 0.1329, 0.0457], Max Fitness: 0.7000, Avg Fitness: 0.4457\n",
      "Generation 49 - Best Individual: [0.0183, 0.011, 0.008, 0.0833, 0.3208, 0.1678, 0.0915, 0.1306, 0.1256, 0.0431], Max Fitness: 0.7333, Avg Fitness: 0.4538\n"
     ]
    }
   ],
   "source": [
    "crossover_prob3 = 0.75\n",
    " \n",
    "ga3 = CatanGA(\n",
    "    population_size=population_size, \n",
    "    generations=generations, \n",
    "    mutation_prob=mutation_prob, \n",
    "    crossover_prob=crossover_prob3,\n",
    "    selection_method=selection_method,\n",
    "    tournament_size=tournament_size,\n",
    "    mutation_sigma=mutation_sigma,\n",
    "    mutation_indpb=mutation_indpb,\n",
    "    num_games_per_individual=num_games_per_individual\n",
    ")\n",
    "\n",
    "best_distribution3 = ga3.run()"
   ]
  },
  {
   "cell_type": "code",
   "execution_count": 10,
   "metadata": {},
   "outputs": [
    {
     "name": "stdout",
     "output_type": "stream",
     "text": [
      "Best probability distribution and agent: ([0.0102, 0.033, 0.0917, 0.0999, 0.2142, 0.0982, 0.048, 0.2252, 0.1436, 0.036], <class 'Agents.PabloAleixAlexAgent.PabloAleixAlexAgent'>)\n"
     ]
    }
   ],
   "source": [
    "print(\"Best probability distribution and agent:\", best_distribution3)"
   ]
  },
  {
   "cell_type": "code",
   "execution_count": 11,
   "metadata": {},
   "outputs": [],
   "source": [
    "df3 = pd.DataFrame(ga3.logbook)\n",
    "df3.to_csv(\"./res_trials/trial_cross3.csv\", index = False)"
   ]
  }
 ],
 "metadata": {
  "kernelspec": {
   "display_name": "Python 3",
   "language": "python",
   "name": "python3"
  },
  "language_info": {
   "codemirror_mode": {
    "name": "ipython",
    "version": 3
   },
   "file_extension": ".py",
   "mimetype": "text/x-python",
   "name": "python",
   "nbconvert_exporter": "python",
   "pygments_lexer": "ipython3",
   "version": "3.12.5"
  }
 },
 "nbformat": 4,
 "nbformat_minor": 2
}
